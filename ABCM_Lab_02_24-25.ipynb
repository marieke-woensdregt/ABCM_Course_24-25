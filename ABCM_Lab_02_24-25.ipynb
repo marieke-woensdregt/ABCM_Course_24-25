{
 "cells": [
  {
   "cell_type": "markdown",
   "id": "5257d644",
   "metadata": {},
   "source": [
    "# ABCM Computer lab 2: Communication & Theory of mind"
   ]
  },
  {
   "cell_type": "markdown",
   "id": "c7ffa873",
   "metadata": {},
   "source": [
    "In this computer lab, we will not work with code directly, but instead will use an online simulation tool that implements the agent-based model from this week's assigned reading (de Weerd et al., 2015):\n",
    "\n",
    "de Weerd, H., Verbrugge, R., & Verheij, B. (2015). Higher-order theory of mind in the Tacit Communication Game. Biologically Inspired Cognitive Architectures, 11, 10–21. https://doi.org/10.1016/j.bica.2014.11.010\n",
    "\n",
    "You can find the online simulation tool, together with an explanation of how it works, here:\n",
    "[http://www.harmendeweerd.nl/tacit-communication-game/](http://www.harmendeweerd.nl/tacit-communication-game/)\n",
    "\n",
    "This online simulation tool is written by the first author of de Weerd et al. (2015), in JavaScript.\n",
    "\n",
    "If you're curious, you can inspect the underlying code by opening it in the browser. To do that, first click the [open script in separate tab](http://www.harmendeweerd.nl/scripts/tcg_script.html) link. Then, depending on your browser, go to:\n",
    "- **Google Chrome:** View --> Developer --> Developer tools --> Select \"Sources\" tab --> Now you can open, for example, \"tcg_agent.js\"\n",
    "- **Firefox:** Tools --> Browser Tools --> Web Developer Tools --> Select \"Debugger\" tab --> Main Thread --> www.harmendeweerd.nl --> scripts --> Now you can open, for example, \"tcg_agent.js\"\n",
    "- **Microsoft Edge:** Click 3 horizontal dots (\"Settings and more\") --> More tools --> Developer tools --> Select \"Sources\" tab --> Now you can open, for example, \"tcg_agent.js\""
   ]
  },
  {
   "cell_type": "markdown",
   "id": "966a77f1",
   "metadata": {},
   "source": [
    "## Read explanation on simulation tool webpage\n",
    "\n",
    "Start by reading the explanation provided on the webpage: [http://www.harmendeweerd.nl/tacit-communication-game/](http://www.harmendeweerd.nl/tacit-communication-game/)"
   ]
  },
  {
   "cell_type": "markdown",
   "id": "03e1a441",
   "metadata": {},
   "source": [
    "## Some more explanation \n",
    "\n",
    "Below, I provide some extra information about what the simulation tool shows.\n",
    "\n",
    "**Note: Some of the text cells below load in images; make sure you download all the images (all the .jpg files) from the GitHub repository as well, and save them in the same folder where you have this notebook saved. Then run each of the three text cells below in which an image is loaded yourself, so that the image becomes visible in your notebook.**\n"
   ]
  },
  {
   "cell_type": "markdown",
   "id": "a9f6eb96",
   "metadata": {},
   "source": [
    "### Before any message is sent\n",
    "\n",
    "Assuming you have both the \"Sender\" and \"Receiver\" boxes ticked, you can view the Sender's beliefs about relevant possible messages for the current trial on the left, and the Receiver's beliefs about relevant possible messages for the current trial on the right.\n",
    "\n",
    "For both agents, possible messages are shown on the left (as a blue path from the Sender's starting location to the Sender's goal location). To the right of each message, the Sender's beliefs about how that message would be interpreted are shown for each ToM-order (0-order, 1st-order, and 2nd-order). In the example below, you can see that the 0-order and 1st-order ToM sender have no particular beliefs about how either of the messages would be interpreted: each of the possible goal locations for the receiver has an orange circle in it, indicating that the Sender believes it's a possible interpretation by the Receiver.\n",
    "Only the 2nd-order Sender has more particular beliefs about the two possible messages:\n",
    "- The 2nd-order Sender believes that the top message could be interpreted in two different ways by the Receiver, because the Sender makes a detour through two different locations that could indicate that that's the Receiver's goal location\n",
    "- The 2nd-order Sender believes that the bottom message can only be interpreted in one way by the Receiver, because it only makes a detour through one specific location\n",
    "\n",
    "![Load in image 1 by running this text cell!](Step_1_before_sending_message.jpeg)"
   ]
  },
  {
   "cell_type": "markdown",
   "id": "835bf7b9",
   "metadata": {},
   "source": [
    "### After a message was sent\n",
    "\n",
    "Below, you can see how things change when a message has been sent (but before the receiver has made their move).\n",
    "\n",
    "![Load in image 2 by running this text cell!](Step_2_after_sending_message.jpeg)"
   ]
  },
  {
   "cell_type": "markdown",
   "id": "25c38bf1",
   "metadata": {},
   "source": [
    "### After the receiver has made their guess\n",
    "\n",
    "Below, you can see how things get updated once the receiver has made their move (including the feedback that the two agents get: In this case, the communication was successful).\n",
    "\n",
    "![Load in image 3 by running this text cell!](Step_3_after_receiver_move.jpeg)"
   ]
  },
  {
   "cell_type": "markdown",
   "id": "48639a0d",
   "metadata": {},
   "source": [
    "**Exercise 1:**\n",
    "\n",
    "Select the following settings:\n",
    "- Sender Theory of mind: Zero-order\n",
    "- Receiver Theory of mind: First-order\n",
    "- Sender prefers messages that: are short\n",
    "\n",
    "You can run a simulation by clicking the \"Start\" button, and then clicking the \"Stop\" button when the condition you're interested in is met. If you need a bit of time to check whether your condition of interest has been met, you can also just press the \"Stop\" button in order to pause the simulation. If you then want it to resume the simulation, you can simply press the \"Start\" button again, and it will continue where it left off.\n",
    "\n",
    "Play through a number of games (20 is usually enough), until you find that all the following conditions are met:\n",
    "\n",
    "There is a message (visible on both the Sender's and the Receiver's side) for which the following agents have the same beliefs about how the Receiver should interpret that message:\n",
    "- The Zero-order Sender and First-order Receiver share the same belief\n",
    "- The First-order Sender and Zero-order Receiver share the same belief\n",
    "- And those two beliefs are each other's mirror image\n",
    "\n",
    "Pay attention to what happens in the simulation to help you answer the question below.\n",
    "\n",
    "When you've found that this condition has been met for one of the possible messages, explain why this is the case."
   ]
  },
  {
   "cell_type": "markdown",
   "id": "dd03b7bd",
   "metadata": {},
   "source": [
    "**Answer to exercise 1:**\n",
    "\n",
    "[Your answer should start here, and, depending on the question, may consist of one or more text cells and/or code cells. You can create as many text and/or code cells as you need in order to answer the question.]"
   ]
  },
  {
   "cell_type": "markdown",
   "id": "10bbcc9d",
   "metadata": {},
   "source": [
    "**Exercise 2:**\n",
    "\n",
    "Select the following settings:\n",
    "- Sender Theory of mind: Second-order\n",
    "- Sender prefers messages that: are short and visit receiver goal\n",
    "- Receiver Theory of mind: Second-order\n",
    "\n",
    "Explore 10 different randomly generated games (without actually playing them) by clicking the \"Clear beliefs\" button over and over. \n",
    "- For each game:\n",
    "    - look at each of the sender's possible messages:\n",
    "        - and check for the Zero-order and First-order sender whether there are any messages that narrow down the number of possible locations in the grid that this sender predicts the receiver would go to (i.e., such that there are less than 9 squares with an orange circle in them)\n",
    "\n",
    "**Note:** To answer this question, do not actually play through any of the games, but instead just keep pressing the \"Clear beliefs\" button. This allows you to inspect the beliefs/predictions of the different ToM-order agents *before* they have established any communication history with each other.\n",
    "      \n",
    "**a)** Across the 10 games you explored, did you find any example where the 0-order or 1st-order Sender has any message under consideration that corresponds to a more specific intrepretation belief than just that the Receiver could go anywhere?\n",
    "\n",
    "**b)** Given your answer to part a), try to explain why this is the case."
   ]
  },
  {
   "cell_type": "markdown",
   "id": "cd67f2a7",
   "metadata": {},
   "source": [
    "**Answer to exercise 2.a):**\n",
    "\n",
    "[Your answer should start here, and, depending on the question, may consist of one or more text cells and/or code cells. You can create as many text and/or code cells as you need in order to answer the question.]"
   ]
  },
  {
   "cell_type": "markdown",
   "id": "098df894",
   "metadata": {},
   "source": [
    "**Answer to exercise 2.b):**\n",
    "\n",
    "[Your answer should start here, and, depending on the question, may consist of one or more text cells and/or code cells. You can create as many text and/or code cells as you need in order to answer the question.]"
   ]
  },
  {
   "cell_type": "markdown",
   "id": "6f7f331f",
   "metadata": {},
   "source": [
    "**Exercise 3:**\n",
    "\n",
    "**a)** Let's run some simulations to see if we find results that are consistent with Tables 1 and 2 from de Weerd et al. (2015).\n",
    "For each of the following settings, play through 10 games, and record the number of successes out of 10 games in the tables below (Table 1 for Setting 1; and Table 2 for Setting 2). You can let the simulation run by itself by simply pressing the \"Start\" button and then pressing the \"Stop\" button after 10 games have been played. To do so, press the \"Stop\" button immediately when the scores for \"Successes\" and \"Errors\" (see bottom right) add up to 10.\n",
    "\n",
    "**Note: Make sure to press the \"Clear beliefs\" button in between each round of 10 games.**\n",
    "\n",
    "Then write down whether these results are in line with those of de Weerd et al. (2015) or not. Explain why. \n",
    "\n",
    "**Setting 1 (Table 1)**:\n",
    "- Set \"Sender prefers messages that:\" to \"are short\":\n",
    "    - Sender: $ToM_{1}$ with Receiver: $ToM_{1}$     - 10 games\n",
    "    - Sender: $ToM_{1}$ with Receiver: $ToM_{2}$     - 10 games\n",
    "    - Sender: $ToM_{2}$ with Receiver: $ToM_{1}$     - 10 games\n",
    "    - Sender: $ToM_{2}$ with Receiver: $ToM_{2}$     - 10 games\n",
    "\n",
    "\n",
    "**Setting 2 (Table 2)**:\n",
    "- Set \"Sender prefers messages that:\" to \"are short and visit receiver goal\":\n",
    "    - Sender: $ToM_{1}$ with Receiver: $ToM_{1}$     - 10 games\n",
    "    - Sender: $ToM_{1}$ with Receiver: $ToM_{2}$     - 10 games\n",
    "    - Sender: $ToM_{2}$ with Receiver: $ToM_{1}$     - 10 games\n",
    "    - Sender: $ToM_{2}$ with Receiver: $ToM_{2}$     - 10 games\n",
    "\n",
    "\n",
    "Table 1. When Sender prefers messages that are short\n",
    "\n",
    "|          |      |**Receiver**|      |\n",
    "|----------|------|------------|------|\n",
    "|          |      | ToM1       | ToM2 |\n",
    "|**Sender**| ToM1 |            |      |\n",
    "|          | ToM2 |            |      |\n",
    "\n",
    "\n",
    "\n",
    "Table 2. When Sender prefers messages that are short **and** visit receiver goal\n",
    "\n",
    "|          |      |**Receiver**|      |\n",
    "|----------|------|------------|------|\n",
    "|          |      | ToM1       | ToM2 |\n",
    "|**Sender**| ToM1 |            |      |\n",
    "|          | ToM2 |            |      |\n",
    "\n",
    "\n",
    "After you've filled out the tables, write down whether these results are in line with those of de Weerd et al. (2015) or not. Explain why. \n",
    "\n",
    "\n",
    "**b)** Why does the preference for sending messages that visit the receiver's goal location not fall out of being a $ToM_{2}$ sender automatically? Shouldn't any $ToM_{2}$ sender predict that a receiver is more likely to understand their communicative intention if their message passes through the goal location?\n",
    "If not, why not?"
   ]
  },
  {
   "cell_type": "markdown",
   "id": "df2d098a",
   "metadata": {},
   "source": [
    "**Answer to exercise 3.a):**\n",
    "\n",
    "[Your answer should start here, and, depending on the question, may consist of one or more text cells and/or code cells. You can create as many text and/or code cells as you need in order to answer the question.]"
   ]
  },
  {
   "cell_type": "markdown",
   "id": "e1ee91ff",
   "metadata": {},
   "source": [
    "**Answer to exercise 3.b):**\n",
    "\n",
    "[Your answer should start here, and, depending on the question, may consist of one or more text cells and/or code cells. You can create as many text and/or code cells as you need in order to answer the question.]"
   ]
  },
  {
   "cell_type": "markdown",
   "id": "74d04f97",
   "metadata": {},
   "source": [
    "**Exercise 4:**\n",
    "\n",
    "**a)** Study Table 1 (/Figure 3) and Table 2 (/Figure 4) in de Weerd et al. (2015). Is it always the case that agent pairs are more succesful when the Receiver has an accurate model of the Sender, or, in other words, when the Receiver knows the actual generative model that produces the Sender's behaviour? (e.g., when a $ToM_{2}$ receiver interacts with a $ToM_{1}$ sender, etc.)? If not, try to explain why not.\n",
    "\n",
    "**b)** What about the other way around? Is it always the case that agent pairs are more succesful when the Sender has an accurate model of the receiver? If not, try to explain why not."
   ]
  },
  {
   "cell_type": "markdown",
   "id": "9741afc8",
   "metadata": {},
   "source": [
    "**Answer to exercise 4.a):**\n",
    "\n",
    "[Your answer should start here, and, depending on the question, may consist of one or more text cells and/or code cells. You can create as many text and/or code cells as you need in order to answer the question.]"
   ]
  },
  {
   "cell_type": "markdown",
   "id": "991293f4",
   "metadata": {},
   "source": [
    "**Answer to exercise 4.b):**\n",
    "\n",
    "[Your answer should start here, and, depending on the question, may consist of one or more text cells and/or code cells. You can create as many text and/or code cells as you need in order to answer the question.]"
   ]
  },
  {
   "cell_type": "markdown",
   "id": "2a51c628",
   "metadata": {},
   "source": [
    "**Exercise 5:**\n",
    "\n",
    "**a)** Further on Exercise 4: Would it be possible to define a model of different orders of $ToM$ reasoning like the one in de Weerd et al. (2015) (or the one in Waade et al., 2022), where instead of one agent reasoning about another agent being one order lower in terms of theory of mind, both agents assume that their partner/opponent has the *same* order of ToM as themselves? (I.e., where the two agents are symmetrical in terms of theory of mind?)\n",
    "\n",
    "It may help to represent your model in the form of a diagram that shows the chain of reasoning for the Sender and Receiver agent, and in what type of agent that chain of reasoning 'bottoms out'. You can create a diagram in whichever way suits you, and include it here as an image, using the following command in a markdown text cell:\n",
    "![test](test_image.jpeg)\n",
    "\n",
    "**b)** If you came up with an answer to part **a)**: In your model, do both agents have an accurate model of the other? I.e., do they know the actual generative model that produces the other agent's behaviour?"
   ]
  },
  {
   "cell_type": "markdown",
   "id": "46478b27",
   "metadata": {},
   "source": [
    "**Answer to exercise 5.a):**\n",
    "\n",
    "[Your answer should start here, and, depending on the question, may consist of one or more text cells and/or code cells. You can create as many text and/or code cells as you need in order to answer the question.]"
   ]
  },
  {
   "cell_type": "markdown",
   "id": "c4b5193c",
   "metadata": {},
   "source": [
    "**Answer to exercise 5.b):**\n",
    "\n",
    "[Your answer should start here, and, depending on the question, may consist of one or more text cells and/or code cells. You can create as many text and/or code cells as you need in order to answer the question.]"
   ]
  },
  {
   "cell_type": "markdown",
   "id": "fce6e0e4",
   "metadata": {},
   "source": [
    "**BONUS Exercise 6 (only if you have time left):**\n",
    "\n",
    "Now, select the following settings:\n",
    "\n",
    "- Sender Theory of mind: Human input\n",
    "- Sender prefers messages that: are short and visit receiver goal\n",
    "- Receiver Theory of mind: Second-order\n",
    "\n",
    "Setting the Sender to \"Human input\" allows you to send a message manually, using the arrow keys, whenever it's the Sender's turn. \n",
    "\n",
    "**a)** Play through 10 games with the 2nd-order ToM Receiver turn-by-turn, by pressing the \"Play turn\" button over and over, and providing input with the arrow keys whenever it's the Sender's turn to send a message. How many \"Successes\" did you manage to get within 10 games?\n",
    "\n",
    "**b)** Now change the Sender's preference to:\n",
    "\n",
    "- Sender prefers messages that: visit receiver goal\n",
    "\n",
    "Then click the \"Clear beliefs\" button to reset the Receiver's beliefs, and play another 10 games. How many \"Successes\" did you manage to get this time?\n",
    "\n",
    "**c)** Was it harder to predict the Receiver's behaviour in one of these settings than in the other? If so, try to explain what causes this."
   ]
  },
  {
   "cell_type": "markdown",
   "id": "73fbaf34",
   "metadata": {},
   "source": [
    "**Answer to exercise 6.a):**\n",
    "\n",
    "[Your answer should start here, and, depending on the question, may consist of one or more text cells and/or code cells. You can create as many text and/or code cells as you need in order to answer the question.]"
   ]
  },
  {
   "cell_type": "markdown",
   "id": "283bbb21",
   "metadata": {},
   "source": [
    "**Answer to exercise 6.b):**\n",
    "\n",
    "[Your answer should start here, and, depending on the question, may consist of one or more text cells and/or code cells. You can create as many text and/or code cells as you need in order to answer the question.]"
   ]
  },
  {
   "cell_type": "markdown",
   "id": "3dd9f0cc",
   "metadata": {},
   "source": [
    "**Answer to exercise 6.c):**\n",
    "\n",
    "[Your answer should start here, and, depending on the question, may consist of one or more text cells and/or code cells. You can create as many text and/or code cells as you need in order to answer the question.]"
   ]
  },
  {
   "cell_type": "markdown",
   "id": "31c07f3c",
   "metadata": {},
   "source": [
    "## References\n",
    "\n",
    "de Weerd, H., Verbrugge, R., & Verheij, B. (2015). Higher-order theory of mind in the Tacit Communication Game. Biologically Inspired Cognitive Architectures, 11, 10–21. https://doi.org/10.1016/j.bica.2014.11.010"
   ]
  }
 ],
 "metadata": {
  "kernelspec": {
   "display_name": "Python 3 (ipykernel)",
   "language": "python",
   "name": "python3"
  },
  "language_info": {
   "codemirror_mode": {
    "name": "ipython",
    "version": 3
   },
   "file_extension": ".py",
   "mimetype": "text/x-python",
   "name": "python",
   "nbconvert_exporter": "python",
   "pygments_lexer": "ipython3",
   "version": "3.7.4"
  },
  "latex_envs": {
   "LaTeX_envs_menu_present": true,
   "autoclose": false,
   "autocomplete": true,
   "bibliofile": "biblio.bib",
   "cite_by": "apalike",
   "current_citInitial": 1,
   "eqLabelWithNumbers": true,
   "eqNumInitial": 1,
   "hotkeys": {
    "equation": "Ctrl-E",
    "itemize": "Ctrl-I"
   },
   "labels_anchors": false,
   "latex_user_defs": false,
   "report_style_numbering": false,
   "user_envs_cfg": false
  },
  "toc": {
   "base_numbering": 1,
   "nav_menu": {},
   "number_sections": true,
   "sideBar": true,
   "skip_h1_title": false,
   "title_cell": "Table of Contents",
   "title_sidebar": "Contents",
   "toc_cell": false,
   "toc_position": {},
   "toc_section_display": true,
   "toc_window_display": false
  },
  "varInspector": {
   "cols": {
    "lenName": 16,
    "lenType": 16,
    "lenVar": 40
   },
   "kernels_config": {
    "python": {
     "delete_cmd_postfix": "",
     "delete_cmd_prefix": "del ",
     "library": "var_list.py",
     "varRefreshCmd": "print(var_dic_list())"
    },
    "r": {
     "delete_cmd_postfix": ") ",
     "delete_cmd_prefix": "rm(",
     "library": "var_list.r",
     "varRefreshCmd": "cat(var_dic_list()) "
    }
   },
   "types_to_exclude": [
    "module",
    "function",
    "builtin_function_or_method",
    "instance",
    "_Feature"
   ],
   "window_display": false
  }
 },
 "nbformat": 4,
 "nbformat_minor": 5
}
