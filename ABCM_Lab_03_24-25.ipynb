{
 "cells": [
  {
   "cell_type": "markdown",
   "id": "6d66c425",
   "metadata": {},
   "source": [
    "# ABCM Computer lab 3: Population effects & Cultural evolution"
   ]
  },
  {
   "cell_type": "markdown",
   "id": "71a57939",
   "metadata": {},
   "source": [
    "This notebook contains Python code for the model by Cuskley et al. (2018), which was kindly shared with me by the first author Christine Cuskley. (Note that the simulations reported in the actual paper were run using C++ code, which is the code you can find in the GitHub repository under the link on p. 757 of the paper: https://github.com/CCuskley/RuleEmergence .)\n",
    "\n",
    "Below follows a brief walk-through of the code, with some exercises in between.\n",
    "\n",
    "To load the code into your notebook, make sure to run each of the code cells below in turn."
   ]
  },
  {
   "cell_type": "markdown",
   "id": "8671afc6",
   "metadata": {},
   "source": [
    "## Activate your virtual environment\n",
    "\n",
    "If you've created a virtual environment for this course before, **don't forgot to activate your virtual environment** before running this notebook. (Activate your virtual environment from the terminal, then type ```jupyter notebook``` in the terminal to open Jupyter notebooks in the browser, then open the notebook for this computer lab, and do Kernel --> Change kernel --> ```<myenv>```, where ```<myenv>``` is the name of your virtual environment.)"
   ]
  },
  {
   "cell_type": "code",
   "execution_count": 2,
   "id": "4174a026",
   "metadata": {
    "ExecuteTime": {
     "end_time": "2024-10-04T16:51:46.037409Z",
     "start_time": "2024-10-04T16:51:28.682072Z"
    }
   },
   "outputs": [],
   "source": [
    "import numpy as np\n",
    "from scipy.stats import entropy\n",
    "from collections import Counter\n",
    "import random\n",
    "import pandas as pd\n",
    "import time\n",
    "import matplotlib.pyplot as plt\n",
    "import seaborn as sns"
   ]
  },
  {
   "cell_type": "code",
   "execution_count": 3,
   "id": "73a9a86c",
   "metadata": {
    "ExecuteTime": {
     "end_time": "2024-10-04T16:51:46.047366Z",
     "start_time": "2024-10-04T16:51:46.040969Z"
    }
   },
   "outputs": [
    {
     "data": {
      "text/plain": [
       "'0.12.2'"
      ]
     },
     "execution_count": 3,
     "metadata": {},
     "output_type": "execute_result"
    }
   ],
   "source": [
    "sns.__version__"
   ]
  },
  {
   "cell_type": "markdown",
   "id": "77d97db5",
   "metadata": {},
   "source": [
    "## Parameter settings:\n",
    "\n",
    "Below are the parameter settings.\n",
    "\n",
    "Unfortunately, the code takes a while to run (hence why Cuskley et al., 2018 ended up implementing the model in C++ instead). To make it feasible to run some simulations in a reasonable amount of time, the code below therefore makes a number of changes compared to the Cuskley et al. (2018) parameter settings. See the parameter settings below; the comment after each parameter states what setting Cuskley et al. (2018) used.\n",
    "\n",
    "These measures should hopefully allow you to run the relevant simulations in ~20 minutes. \n",
    "\n",
    "Have a look at each of the parameters below, and check whether you understand which parameter or condition described in Cuskley et al. (2018) they correspond to."
   ]
  },
  {
   "cell_type": "code",
   "execution_count": 4,
   "id": "9a8fe555",
   "metadata": {
    "ExecuteTime": {
     "end_time": "2024-10-04T16:51:46.055394Z",
     "start_time": "2024-10-04T16:51:46.050606Z"
    }
   },
   "outputs": [],
   "source": [
    "popSizes_to_compare = [10, 50]  # small pop size first, large pop size second. Cuskley et al. (2018) used 20 for small and 100 for large pop\n",
    "runs = 2  # number of independent simulation runs (int). Cuskley et al. (2018) used 100\n",
    "maxTime = 2000  # number of timesteps (int). Cuskley et al. (2018) used 10,000\n",
    "doReplace = True  # whether to do replacement (i.e., population turnover) or not (Boolean; True or False)\n",
    "doGrowth = False  # whether to do population growth or not (Boolean; True or False)\n",
    "\n",
    "k = 750  # token threshold for proficiency. Cuskley et al. (2018) used 1500\n",
    "d = 100  # memory window, see Cuskley et al. (2017): https://doi.org/10.1016/j.cognition.2016.11.001. Cuskley et al. used 100\n",
    "r = 0.001  # the rate of replacement for turnover. Cuskley et al. (2018) used 0.001.\n",
    "g = 0.001  # the rate of growth. Cuskley et al. (2018) used 0.001.\n",
    "lemmas = 14  # number of lemmas (int); 28 in the Cuskley et al. (2018) paper. Cuskley et al. (2018) used 28\n",
    "inflections = 6  # number of inflections (int); 12 in the Cuskley et al. (2018) paper. Cuskley et al. (2018) used 12"
   ]
  },
  {
   "cell_type": "markdown",
   "id": "8a73b6ea",
   "metadata": {},
   "source": [
    "In the code of Cuskley et al. (2018), the ```topic_list```, which determines the frequency of each of the lemmas according to a Zipfian distribution, is hardcoded (see code cell below). However, if we want to be able to change the number of lemmas in the simulation, we need a function that generates this Zipfian distribution list with the right number of lemmas. I've written a function that does that, called ```zipfian_vocab()```, below:"
   ]
  },
  {
   "cell_type": "code",
   "execution_count": 5,
   "id": "ae7df8c8",
   "metadata": {
    "ExecuteTime": {
     "end_time": "2024-10-04T16:51:46.078362Z",
     "start_time": "2024-10-04T16:51:46.061729Z"
    }
   },
   "outputs": [],
   "source": [
    "topic_list_original_code = [0, 0, 0, 0, 0, 0, 0, 0, 0, 0, 0, 0, 0, 0, 0, 0, 0, 0, 0, 0, 0, 0, 0,0, 0, 0, 0, 0, 0, 0, 0, 0, 0, 0, 0, 0, 0, 0, 0, 0, 0, 0, 0, 0, 0, 0,0, 0, 0, 0, 0, 0, 0, 0, 0, 0, 0, 0, 0, 0, 0, 0, 0, 0, 0, 0, 0, 0, 0, 0, 0, 0, 0, 0, 0, 0, 0, 0, 0, 0, 0, 0, 0, 0, 0, 0, 0, 0, 0, 0, 0, 0, 0, 0, 0, 0, 0, 0, 0, 0, 0, 0, 0, 0, 0, 0, 0, 0, 0, 0, 0, 0, 0, 0, 0, 0, 0, 0, 0, 0, 0, 0, 0, 0, 0, 0, 0, 0, 0, 0, 0, 0, 0, 0, 0, 0, 0, 0, 0, 0, 0, 0, 0, 0, 0, 0, 0, 0, 0, 0, 0, 0, 0, 0, 0, 0, 0, 0, 0, 0, 0, 0, 0, 0, 0, 0, 0, 0, 0, 0, 0, 0, 0, 0, 0, 0, 0, 0, 0, 0, 0, 0, 0, 0, 0, 0, 0, 0, 0, 0, 0, 0, 0, 0, 0, 0, 0, 0, 0, 0, 0, 0, 0, 0, 0, 0, 0, 0, 0, 0, 0, 0, 0, 0, 0, 0, 0, 0, 0, 0, 0, 0, 0, 0, 0, 0, 0, 0, 0, 0, 0, 0, 0, 0, 0, 0, 0, 0, 0, 0, 0, 0, 0, 0, 0, 0, 0, 0, 0, 0, 0, 0, 0, 0, 0, 0, 0, 0, 0, 0, 0, 0, 0, 0, 0, 0, 0, 0, 0, 0, 0, 0, 0, 0, 0, 0, 0, 0, 0, 0, 0, 0, 0, 0, 0, 0, 0, 0, 0, 0, 0, 0, 0, 0, 0, 0, 0, 0, 0, 0, 0, 0, 0, 0, 0, 0, 0, 0, 0, 0, 0, 0, 0, 0, 0, 0, 0, 0, 1, 1, 1, 1, 1, 1, 1, 1, 1, 1, 1, 1, 1, 1, 1, 1, 1, 1, 1, 1, 1, 1, 1, 1, 1, 1, 1, 1, 1, 1, 1, 1, 1, 1, 1, 1, 1, 1, 1, 1, 1, 1, 1, 1, 1, 1, 1, 1, 1, 1, 1, 1, 1, 1, 1, 1, 1, 1, 1, 1, 1, 1, 1, 1, 1, 1, 2, 2, 2, 2, 2, 2, 2, 2, 2, 2, 2, 2, 2, 2, 2, 2, 2, 2, 2, 2, 2, 2, 2, 2, 2, 2, 2, 2, 2, 2, 2, 2, 2, 2, 2, 3, 3, 3, 3, 3, 3, 3, 3, 3, 3, 3, 3, 3, 3, 3, 3, 3, 3, 3, 3, 3, 4, 4, 4, 4, 4, 4, 4, 4, 4, 4, 4, 4, 4, 4, 5, 5, 5, 5, 5, 5, 6, 6, 6, 6, 6, 7, 7, 7, 7, 8, 8, 8, 8, 9, 9, 9, 10, 10, 10, 11, 11, 11, 12, 12, 13, 13, 14, 15, 16, 17, 18, 19, 20, 21, 22, 23, 24, 25, 26, 27]\n",
    "\n",
    "lemfreq_original_code = Counter(topic_list_original_code)"
   ]
  },
  {
   "cell_type": "code",
   "execution_count": 6,
   "id": "3e453d41",
   "metadata": {
    "ExecuteTime": {
     "end_time": "2024-10-04T16:51:46.085826Z",
     "start_time": "2024-10-04T16:51:46.081519Z"
    }
   },
   "outputs": [
    {
     "name": "stdout",
     "output_type": "stream",
     "text": [
      "[0, 0, 0, 0, 0, 0, 0, 0, 0, 0, 0, 0, 0, 0, 0, 0, 0, 0, 0, 0, 0, 0, 0, 0, 0, 0, 0, 0, 0, 0, 0, 0, 0, 0, 0, 0, 0, 0, 0, 0, 0, 0, 0, 0, 0, 0, 0, 0, 0, 0, 0, 0, 0, 0, 0, 0, 0, 0, 0, 0, 0, 0, 0, 0, 0, 0, 0, 0, 0, 0, 0, 0, 0, 0, 0, 0, 0, 0, 0, 0, 0, 0, 0, 0, 0, 0, 0, 0, 0, 0, 0, 0, 0, 0, 0, 0, 0, 0, 0, 0, 0, 0, 0, 0, 0, 0, 0, 0, 0, 0, 0, 0, 0, 0, 0, 0, 0, 0, 0, 0, 0, 0, 0, 0, 0, 0, 0, 0, 0, 0, 0, 0, 0, 0, 0, 0, 0, 0, 0, 0, 0, 0, 0, 0, 0, 0, 0, 0, 0, 0, 0, 0, 0, 0, 0, 0, 0, 0, 0, 0, 0, 0, 0, 0, 0, 0, 0, 0, 0, 0, 0, 0, 0, 0, 0, 0, 0, 0, 0, 0, 0, 0, 0, 0, 0, 0, 0, 0, 0, 0, 0, 0, 0, 0, 0, 0, 0, 0, 0, 0, 0, 0, 0, 0, 0, 0, 0, 0, 0, 0, 0, 0, 0, 0, 0, 0, 0, 0, 0, 0, 0, 0, 0, 0, 0, 0, 0, 0, 0, 0, 0, 0, 0, 0, 0, 0, 0, 0, 0, 0, 0, 0, 0, 0, 0, 0, 0, 0, 0, 0, 0, 0, 0, 0, 0, 0, 0, 0, 0, 0, 0, 0, 0, 0, 0, 0, 0, 0, 0, 0, 0, 0, 0, 0, 0, 0, 0, 0, 0, 0, 0, 0, 0, 0, 0, 0, 0, 0, 0, 0, 0, 0, 0, 0, 0, 0, 0, 0, 0, 0, 0, 0, 0, 0, 0, 0, 0, 0, 0, 0, 0, 0, 0, 0, 0, 0, 0, 0, 1, 1, 1, 1, 1, 1, 1, 1, 1, 1, 1, 1, 1, 1, 1, 1, 1, 1, 1, 1, 1, 1, 1, 1, 1, 1, 1, 1, 1, 1, 1, 1, 1, 1, 1, 1, 1, 1, 1, 1, 1, 1, 1, 1, 1, 1, 1, 1, 1, 1, 1, 1, 1, 1, 1, 1, 1, 1, 1, 1, 1, 1, 1, 1, 1, 1, 2, 2, 2, 2, 2, 2, 2, 2, 2, 2, 2, 2, 2, 2, 2, 2, 2, 2, 2, 2, 2, 2, 2, 2, 2, 2, 2, 2, 2, 2, 2, 2, 2, 2, 2, 3, 3, 3, 3, 3, 3, 3, 3, 3, 3, 3, 3, 3, 3, 3, 3, 3, 3, 3, 3, 3, 4, 4, 4, 4, 4, 4, 4, 4, 4, 4, 4, 4, 4, 4, 5, 5, 5, 5, 5, 5, 6, 6, 6, 6, 6, 7, 7, 7, 7, 8, 8, 8, 8, 9, 9, 9, 10, 10, 10, 11, 11, 11, 12, 12, 13, 13, 14, 15, 16, 17, 18, 19, 20, 21, 22, 23, 24, 25, 26, 27]\n"
     ]
    }
   ],
   "source": [
    "print(topic_list_original_code)"
   ]
  },
  {
   "cell_type": "code",
   "execution_count": 7,
   "id": "1b87b9ef",
   "metadata": {
    "ExecuteTime": {
     "end_time": "2024-10-04T16:51:46.093259Z",
     "start_time": "2024-10-04T16:51:46.088465Z"
    }
   },
   "outputs": [
    {
     "data": {
      "text/plain": [
       "500"
      ]
     },
     "execution_count": 7,
     "metadata": {},
     "output_type": "execute_result"
    }
   ],
   "source": [
    "len(topic_list_original_code)"
   ]
  },
  {
   "cell_type": "code",
   "execution_count": 8,
   "id": "d0e0c323",
   "metadata": {
    "ExecuteTime": {
     "end_time": "2024-10-04T16:51:46.102634Z",
     "start_time": "2024-10-04T16:51:46.096642Z"
    }
   },
   "outputs": [
    {
     "data": {
      "text/plain": [
       "Counter({0: 318,\n",
       "         1: 66,\n",
       "         2: 35,\n",
       "         3: 21,\n",
       "         4: 14,\n",
       "         5: 6,\n",
       "         6: 5,\n",
       "         7: 4,\n",
       "         8: 4,\n",
       "         9: 3,\n",
       "         10: 3,\n",
       "         11: 3,\n",
       "         12: 2,\n",
       "         13: 2,\n",
       "         14: 1,\n",
       "         15: 1,\n",
       "         16: 1,\n",
       "         17: 1,\n",
       "         18: 1,\n",
       "         19: 1,\n",
       "         20: 1,\n",
       "         21: 1,\n",
       "         22: 1,\n",
       "         23: 1,\n",
       "         24: 1,\n",
       "         25: 1,\n",
       "         26: 1,\n",
       "         27: 1})"
      ]
     },
     "execution_count": 8,
     "metadata": {},
     "output_type": "execute_result"
    }
   ],
   "source": [
    "lemfreq_original_code"
   ]
  },
  {
   "cell_type": "code",
   "execution_count": 9,
   "id": "de48572c",
   "metadata": {
    "ExecuteTime": {
     "end_time": "2024-10-04T16:51:46.110729Z",
     "start_time": "2024-10-04T16:51:46.105443Z"
    }
   },
   "outputs": [
    {
     "data": {
      "text/plain": [
       "28"
      ]
     },
     "execution_count": 9,
     "metadata": {},
     "output_type": "execute_result"
    }
   ],
   "source": [
    "len(lemfreq_original_code)"
   ]
  },
  {
   "cell_type": "code",
   "execution_count": 10,
   "id": "29f2d0b3",
   "metadata": {
    "ExecuteTime": {
     "end_time": "2024-10-04T16:51:46.121706Z",
     "start_time": "2024-10-04T16:51:46.113695Z"
    }
   },
   "outputs": [],
   "source": [
    "def zipfian_vocab(n_lemmas,a, n_tokens):\n",
    "    \"\"\"\n",
    "    Generates a vocabulary (numpy array of n_tokens tokens of n_lemmas types, with Zipfian frequency distribution)\n",
    "    :param n_lemmas: int: number of lemmas\n",
    "    :param a: int: exponent (parameter a) used to create Zipfian frequency distribution. Cuskley et al., 2018 used 2\n",
    "    :param n_tokens: int: number of tokens in vocabulary. Cuskley et al. seem to have used 500 (in C++ implementation)\n",
    "    :return: (1) numpy array containing n_tokens tokens of n_lemmas types; (2) numpy array with log frequency per lemma\n",
    "    \"\"\"\n",
    "    lemma_indices = np.arange(n_lemmas)  # create numpy array with index for each lemma\n",
    "    zipf_dist = np.random.zipf(a, size=n_lemmas)  # create Zipfian frequency distribution for lemmas\n",
    "    zipf_dist_in_probs = np.divide(zipf_dist, np.sum(zipf_dist))\n",
    "    zipf_dist_for_n_tokens = np.multiply(zipf_dist_in_probs, n_tokens)\n",
    "    zipf_dist_for_n_tokens = np.ceil(zipf_dist_for_n_tokens)  # Round UP, so that we get *at least* n_tokens in vocab\n",
    "    vocabulary = np.array([])\n",
    "    for i in range(len(lemma_indices)):\n",
    "        lemma_index = lemma_indices[i]\n",
    "        lemma_freq = zipf_dist_for_n_tokens[i]\n",
    "        vocabulary = np.concatenate((vocabulary, np.array([lemma_index for x in range(int(lemma_freq))])))\n",
    "    for j in range(2):  # doing this twice because sth weird w/ np.delete() function: doesn't always delete all indices\n",
    "        # (possibly to do with later index going out of bounds once previous indices have been deleted)\n",
    "        if vocabulary.shape[0] > n_tokens:  # if vocab is larger than n_tokens, randomly remove excess tokens\n",
    "            random_indices = np.random.choice(np.arange(vocabulary.shape[0]), size=(vocabulary.shape[0] - n_tokens))\n",
    "            vocabulary = np.delete(vocabulary, random_indices)\n",
    "    vocabulary = vocabulary.astype(int)\n",
    "    return vocabulary\n"
   ]
  },
  {
   "cell_type": "markdown",
   "id": "64ba0cb4",
   "metadata": {},
   "source": [
    "### Always re-run the code cell below after changing the lemmas parameter!"
   ]
  },
  {
   "cell_type": "code",
   "execution_count": 11,
   "id": "285bce75",
   "metadata": {
    "ExecuteTime": {
     "end_time": "2024-10-04T16:51:46.134903Z",
     "start_time": "2024-10-04T16:51:46.129904Z"
    }
   },
   "outputs": [],
   "source": [
    "# 2 is what Cuskley et al. (2018) used as the exponent (parameter a) for the Zipfian distribution, and 500 is the\n",
    "# length of the topic_list from the original code:\n",
    "\n",
    "topic_list = zipfian_vocab(lemmas, 2, 500)\n",
    "\n",
    "lemfreq = Counter(topic_list)"
   ]
  },
  {
   "cell_type": "code",
   "execution_count": 12,
   "id": "d553ab99",
   "metadata": {
    "ExecuteTime": {
     "end_time": "2024-10-04T16:51:46.144591Z",
     "start_time": "2024-10-04T16:51:46.138289Z"
    }
   },
   "outputs": [
    {
     "data": {
      "text/plain": [
       "array([ 0,  0,  0,  0,  0,  0,  0,  0,  0,  0,  0,  0,  0,  0,  0,  0,  0,\n",
       "        0,  0,  0,  0,  0,  1,  1,  1,  1,  1,  1,  1,  1,  1,  1,  1,  1,\n",
       "        1,  1,  1,  1,  1,  1,  1,  1,  1,  1,  1,  1,  1,  1,  1,  1,  1,\n",
       "        1,  1,  1,  1,  1,  1,  1,  1,  1,  1,  1,  1,  1,  1,  2,  2,  2,\n",
       "        2,  2,  2,  2,  2,  2,  2,  2,  2,  2,  2,  2,  2,  2,  2,  2,  2,\n",
       "        2,  2,  3,  3,  3,  3,  3,  3,  3,  3,  3,  3,  3,  3,  3,  3,  3,\n",
       "        3,  3,  3,  3,  3,  3,  3,  3,  3,  3,  3,  3,  3,  3,  3,  3,  3,\n",
       "        3,  3,  3,  3,  3,  3,  3,  3,  3,  3,  3,  3,  4,  4,  4,  4,  4,\n",
       "        4,  4,  4,  4,  4,  4,  4,  4,  4,  4,  4,  4,  4,  4,  4,  4,  4,\n",
       "        5,  5,  5,  5,  5,  5,  5,  5,  5,  5,  5,  5,  5,  5,  5,  5,  5,\n",
       "        5,  5,  5,  5,  5,  6,  6,  6,  6,  6,  6,  6,  6,  6,  6,  6,  6,\n",
       "        6,  6,  6,  6,  6,  6,  6,  6,  6,  6,  7,  7,  7,  7,  7,  7,  7,\n",
       "        7,  7,  7,  7,  7,  7,  7,  7,  7,  7,  7,  7,  7,  7,  7,  8,  8,\n",
       "        8,  8,  8,  8,  8,  8,  8,  8,  8,  8,  8,  8,  8,  8,  8,  8,  8,\n",
       "        8,  8,  8,  8,  8,  8,  8,  8,  8,  8,  8,  8,  8,  8,  8,  8,  8,\n",
       "        8,  8,  8,  8,  8,  8,  8,  9,  9,  9,  9,  9,  9,  9,  9,  9,  9,\n",
       "        9,  9,  9,  9,  9,  9,  9,  9,  9,  9,  9, 10, 10, 10, 10, 10, 10,\n",
       "       10, 10, 10, 10, 10, 10, 10, 10, 10, 10, 10, 10, 10, 10, 10, 10, 11,\n",
       "       11, 11, 11, 11, 11, 11, 11, 11, 11, 11, 11, 11, 11, 11, 11, 11, 11,\n",
       "       11, 11, 11, 11, 12, 12, 12, 12, 12, 12, 12, 12, 12, 12, 12, 12, 12,\n",
       "       12, 12, 12, 12, 12, 12, 12, 12, 12, 12, 12, 12, 12, 12, 12, 12, 12,\n",
       "       12, 12, 12, 12, 12, 12, 12, 12, 12, 12, 12, 12, 12, 12, 12, 12, 12,\n",
       "       12, 12, 12, 12, 12, 12, 12, 12, 12, 12, 12, 12, 12, 12, 12, 12, 12,\n",
       "       12, 12, 12, 12, 12, 12, 12, 12, 12, 12, 12, 12, 12, 12, 12, 12, 12,\n",
       "       12, 12, 12, 12, 12, 12, 12, 12, 12, 12, 12, 12, 12, 12, 12, 12, 12,\n",
       "       12, 12, 12, 12, 12, 12, 12, 12, 12, 12, 12, 12, 12, 12, 12, 12, 12,\n",
       "       12, 12, 12, 12, 12, 12, 12, 12, 12, 12, 12, 12, 12, 12, 13, 13, 13,\n",
       "       13, 13, 13, 13, 13, 13, 13, 13, 13, 13, 13, 13, 13, 13, 13, 13, 13,\n",
       "       13, 13, 13, 13, 13, 13, 13, 13, 13, 13, 13, 13, 13, 13, 13, 13, 13,\n",
       "       13, 13, 13, 13, 13, 13, 13])"
      ]
     },
     "execution_count": 12,
     "metadata": {},
     "output_type": "execute_result"
    }
   ],
   "source": [
    "topic_list"
   ]
  },
  {
   "cell_type": "code",
   "execution_count": 13,
   "id": "0aaec55d",
   "metadata": {
    "ExecuteTime": {
     "end_time": "2024-10-04T16:51:46.152358Z",
     "start_time": "2024-10-04T16:51:46.147552Z"
    }
   },
   "outputs": [
    {
     "data": {
      "text/plain": [
       "500"
      ]
     },
     "execution_count": 13,
     "metadata": {},
     "output_type": "execute_result"
    }
   ],
   "source": [
    "len(topic_list)"
   ]
  },
  {
   "cell_type": "code",
   "execution_count": 14,
   "id": "6c9f5ee9",
   "metadata": {
    "ExecuteTime": {
     "end_time": "2024-10-04T16:51:46.161233Z",
     "start_time": "2024-10-04T16:51:46.155231Z"
    }
   },
   "outputs": [
    {
     "data": {
      "text/plain": [
       "Counter({0: 22,\n",
       "         1: 43,\n",
       "         2: 22,\n",
       "         3: 44,\n",
       "         4: 22,\n",
       "         5: 22,\n",
       "         6: 22,\n",
       "         7: 22,\n",
       "         8: 43,\n",
       "         9: 21,\n",
       "         10: 22,\n",
       "         11: 22,\n",
       "         12: 129,\n",
       "         13: 44})"
      ]
     },
     "execution_count": 14,
     "metadata": {},
     "output_type": "execute_result"
    }
   ],
   "source": [
    "lemfreq"
   ]
  },
  {
   "cell_type": "code",
   "execution_count": 15,
   "id": "bebcd376",
   "metadata": {
    "ExecuteTime": {
     "end_time": "2024-10-04T16:51:46.168784Z",
     "start_time": "2024-10-04T16:51:46.164199Z"
    }
   },
   "outputs": [
    {
     "data": {
      "text/plain": [
       "14"
      ]
     },
     "execution_count": 15,
     "metadata": {},
     "output_type": "execute_result"
    }
   ],
   "source": [
    "len(lemfreq)"
   ]
  },
  {
   "cell_type": "markdown",
   "id": "160b75f1",
   "metadata": {},
   "source": [
    "## The Agent class:\n",
    "\n",
    "Below is the definition of the ```Agent``` class. The main attribute that an ```Agent``` object consists of is its matrix ```self.matrix```. This matrix represents the agent's vocabulary. For each possible lemma-inflection pairing, the matrix contains 4 entries (which are all initialised at 0). By running the code cell below, you can see what an empty version of an agent's matrix looks like (i.e., before the agent has done any interactions):"
   ]
  },
  {
   "cell_type": "code",
   "execution_count": 16,
   "id": "db592f46",
   "metadata": {
    "ExecuteTime": {
     "end_time": "2024-10-04T16:51:46.181189Z",
     "start_time": "2024-10-04T16:51:46.171151Z"
    }
   },
   "outputs": [
    {
     "data": {
      "text/plain": [
       "array([[[0., 0., 0., 0.],\n",
       "        [0., 0., 0., 0.],\n",
       "        [0., 0., 0., 0.],\n",
       "        [0., 0., 0., 0.],\n",
       "        [0., 0., 0., 0.],\n",
       "        [0., 0., 0., 0.]],\n",
       "\n",
       "       [[0., 0., 0., 0.],\n",
       "        [0., 0., 0., 0.],\n",
       "        [0., 0., 0., 0.],\n",
       "        [0., 0., 0., 0.],\n",
       "        [0., 0., 0., 0.],\n",
       "        [0., 0., 0., 0.]],\n",
       "\n",
       "       [[0., 0., 0., 0.],\n",
       "        [0., 0., 0., 0.],\n",
       "        [0., 0., 0., 0.],\n",
       "        [0., 0., 0., 0.],\n",
       "        [0., 0., 0., 0.],\n",
       "        [0., 0., 0., 0.]],\n",
       "\n",
       "       [[0., 0., 0., 0.],\n",
       "        [0., 0., 0., 0.],\n",
       "        [0., 0., 0., 0.],\n",
       "        [0., 0., 0., 0.],\n",
       "        [0., 0., 0., 0.],\n",
       "        [0., 0., 0., 0.]],\n",
       "\n",
       "       [[0., 0., 0., 0.],\n",
       "        [0., 0., 0., 0.],\n",
       "        [0., 0., 0., 0.],\n",
       "        [0., 0., 0., 0.],\n",
       "        [0., 0., 0., 0.],\n",
       "        [0., 0., 0., 0.]],\n",
       "\n",
       "       [[0., 0., 0., 0.],\n",
       "        [0., 0., 0., 0.],\n",
       "        [0., 0., 0., 0.],\n",
       "        [0., 0., 0., 0.],\n",
       "        [0., 0., 0., 0.],\n",
       "        [0., 0., 0., 0.]],\n",
       "\n",
       "       [[0., 0., 0., 0.],\n",
       "        [0., 0., 0., 0.],\n",
       "        [0., 0., 0., 0.],\n",
       "        [0., 0., 0., 0.],\n",
       "        [0., 0., 0., 0.],\n",
       "        [0., 0., 0., 0.]],\n",
       "\n",
       "       [[0., 0., 0., 0.],\n",
       "        [0., 0., 0., 0.],\n",
       "        [0., 0., 0., 0.],\n",
       "        [0., 0., 0., 0.],\n",
       "        [0., 0., 0., 0.],\n",
       "        [0., 0., 0., 0.]],\n",
       "\n",
       "       [[0., 0., 0., 0.],\n",
       "        [0., 0., 0., 0.],\n",
       "        [0., 0., 0., 0.],\n",
       "        [0., 0., 0., 0.],\n",
       "        [0., 0., 0., 0.],\n",
       "        [0., 0., 0., 0.]],\n",
       "\n",
       "       [[0., 0., 0., 0.],\n",
       "        [0., 0., 0., 0.],\n",
       "        [0., 0., 0., 0.],\n",
       "        [0., 0., 0., 0.],\n",
       "        [0., 0., 0., 0.],\n",
       "        [0., 0., 0., 0.]],\n",
       "\n",
       "       [[0., 0., 0., 0.],\n",
       "        [0., 0., 0., 0.],\n",
       "        [0., 0., 0., 0.],\n",
       "        [0., 0., 0., 0.],\n",
       "        [0., 0., 0., 0.],\n",
       "        [0., 0., 0., 0.]],\n",
       "\n",
       "       [[0., 0., 0., 0.],\n",
       "        [0., 0., 0., 0.],\n",
       "        [0., 0., 0., 0.],\n",
       "        [0., 0., 0., 0.],\n",
       "        [0., 0., 0., 0.],\n",
       "        [0., 0., 0., 0.]],\n",
       "\n",
       "       [[0., 0., 0., 0.],\n",
       "        [0., 0., 0., 0.],\n",
       "        [0., 0., 0., 0.],\n",
       "        [0., 0., 0., 0.],\n",
       "        [0., 0., 0., 0.],\n",
       "        [0., 0., 0., 0.]],\n",
       "\n",
       "       [[0., 0., 0., 0.],\n",
       "        [0., 0., 0., 0.],\n",
       "        [0., 0., 0., 0.],\n",
       "        [0., 0., 0., 0.],\n",
       "        [0., 0., 0., 0.],\n",
       "        [0., 0., 0., 0.]]])"
      ]
     },
     "execution_count": 16,
     "metadata": {},
     "output_type": "execute_result"
    }
   ],
   "source": [
    "np.zeros(shape=(lemmas,inflections), dtype = (float, 4))"
   ]
  },
  {
   "cell_type": "markdown",
   "id": "4c518d49",
   "metadata": {},
   "source": [
    "As is explained in the comment in the ```Agent.__init__()``` method, these 4 entries represent: ```[successes, total inters., weight (successes/total inters), last heard]```. \n",
    "\n",
    "That is: \n",
    "\n",
    "- ```self.matrix[L][I][0]``` keeps track of the number of communicative successes achieved with that particular lemma-inflection pairing.\n",
    "- ```self.matrix[L][I][1]``` keeps track of the total number of interactions in which the agent has used that particular lemma-inflection pairing.\n",
    "- ```self.matrix[L][I][2]``` keeps track of the _relative_ successfullness of that particular lemma-inflection pairing: i.e., the number of times it led to communicative success, divided by the total number of times it was used.\n",
    "- ```self.matrix[L][I][3]``` keeps track of at which timestep this lemma-inflection pairing was last heard (this is relevant for the ```Agent.purgeLemmas()``` method which implements the memory decay that Cuskley et al., 2018 describe on page 750).\n",
    "\n",
    "Have a look at the ```.updateInflection()``` method of the ```Agent``` class to see how these four entries inside the agent's vocabulary matrix are updated.\n",
    "\n",
    "Then have a look at where/when the ```.updateInflection()``` method is called."
   ]
  },
  {
   "cell_type": "code",
   "execution_count": 17,
   "id": "9ab16acf",
   "metadata": {
    "ExecuteTime": {
     "end_time": "2024-10-04T16:51:46.206181Z",
     "start_time": "2024-10-04T16:51:46.184342Z"
    }
   },
   "outputs": [],
   "source": [
    "\n",
    "class Agent:\n",
    "    def __init__(self,L,I):\n",
    "        self.tokens=0\n",
    "        self.typeGen=False\n",
    "        self.isActive=False\n",
    "        self.matrix = np.zeros(shape=(L,I), dtype = (float, 4))\n",
    "        #the above generates L=28 Lemmas\n",
    "        #the index is the identity of the lemma.\n",
    "        #each Lemma has a list of 12 inflection arrays\n",
    "        #the index of each inflection is its identity\n",
    "        #each inflection array has 4 zeros initially,\n",
    "        #standing in for:\n",
    "        #[successes, total inters., weight (successes/total inters), last heard]\n",
    "\n",
    "    \n",
    "    def resetAgent(self, L,I):\n",
    "        self.isActive=True\n",
    "        self.tokens=0\n",
    "        self.typeGen=False\n",
    "        self.matrix = np.zeros(shape=(L,I), dtype = (float, 4)) \n",
    "\n",
    "    def resetLemma(self,L):\n",
    "        for infl in self.matrix[L]:\n",
    "            self.matrix[L][infl]=[0,0,0,0]\n",
    "\n",
    "    def updateInflection(self, L,I, outcome, tstep):\n",
    "        self.matrix[L][I][0]+=outcome\n",
    "        self.matrix[L][I][1]+=1\n",
    "        self.matrix[L][I][2]=self.matrix[L][I][0]/self.matrix[L][I][1]\n",
    "        self.matrix[L][I][3]=tstep\n",
    "        if self.typeGen==False:\n",
    "            self.tokens+=1\n",
    "            if self.tokens>k:\n",
    "                self.typeGen=True\n",
    "\n",
    "    def hasInflections(self,L):\n",
    "        hasInts=False\n",
    "        for i in range(inflections):\n",
    "            if self.matrix[L][i][2]>0:\n",
    "                hasInts=True\n",
    "                break\n",
    "        return hasInts\n",
    "\n",
    "    def getBestInfl(self, L):        \n",
    "        bestWeight= -0.5\n",
    "        bestInfl=0\n",
    "        for i in range(inflections):\n",
    "            if self.matrix[L][i][2]>bestWeight:\n",
    "                bestWeight=self.matrix[L][i][2]\n",
    "                bestInfl=i\n",
    "        if bestWeight<=0:\n",
    "            return -1\n",
    "        else:\n",
    "            return bestInfl\n",
    "\n",
    "    def purgeLemmas(self, tstep):\n",
    "        for l in range(lemmas):\n",
    "            for i in range(inflections):\n",
    "                if tstep-self.matrix[l][i][3]>d:\n",
    "                    self.matrix[l][i]=[0,0,0,0]\n",
    "\n",
    "    def typeGeneralise(self):\n",
    "#         maxTypes=[0,0,0,0,0,0,0,0,0,0,0,0]  # This was hard-coded in the original code\n",
    "        maxTypes = [0 for x in range(inflections)]\n",
    "        for l in range(lemmas):\n",
    "            bestinfl=self.getBestInfl(l)\n",
    "            if bestinfl>=0:\n",
    "                maxTypes[bestinfl]+=1\n",
    "        maxval=max(maxTypes)\n",
    "        if maxval==0:\n",
    "            #we dont have any best inflections, choose randomly.\n",
    "#             return random.randint(0,11)  # This was hard-coded in the original code\n",
    "            return random.randint(0,inflections-1)\n",
    "        else:\n",
    "            #break ties\n",
    "            ties=[]\n",
    "            for m in range(len(maxTypes)):\n",
    "                if maxTypes[m]==maxval:\n",
    "                    ties.append(m)\n",
    "            return random.choice(ties)\n",
    "\n",
    "\n",
    "    def tokenGeneralise(self):        \n",
    "#         maxTokens=[0,0,0,0,0,0,0,0,0,0,0,0]  # This was hard-coded in the original code\n",
    "        maxTokens = [0 for x in range(inflections)]\n",
    "        for l in range(lemmas):\n",
    "            for i in range(inflections):\n",
    "                maxTokens[i]+=self.matrix[l][i][0]\n",
    "        maxval=max(maxTokens)\n",
    "        if maxval==0:\n",
    "            #we dont have any best inflections, choose randomly.\n",
    "#             return random.randint(0,11)  # This was hard-coded in the original code\n",
    "            return random.randint(0,inflections-1)\n",
    "        ties=[]\n",
    "        for m in range(len(maxTokens)):\n",
    "            if maxTokens[m]==maxval:\n",
    "                ties.append(m)\n",
    "        return random.choice(ties)\n",
    "\n",
    "    def genInfl(self,L):\n",
    "        hasInfl=self.hasInflections(L)\n",
    "        if hasInfl:\n",
    "            bestinfl=self.getBestInfl(L)\n",
    "            if bestinfl>=0:\n",
    "                return bestinfl\n",
    "            else:\n",
    "                hasInfl=False\n",
    "        if hasInfl==False:            \n",
    "            if(self.typeGen):\n",
    "                return self.typeGeneralise()\n",
    "            else:\n",
    "                return self.tokenGeneralise()\n",
    "\n",
    "    def hear(self,L,infl,tstep):\n",
    "        if self.matrix[L][infl][1]>0:\n",
    "            outcome=1\n",
    "        else:\n",
    "            guess=self.genInfl(L)\n",
    "            if guess==infl:\n",
    "                outcome=1\n",
    "            else:\n",
    "                outcome=0\n",
    "        self.updateInflection(L,infl,outcome,tstep)\n",
    "        return outcome"
   ]
  },
  {
   "cell_type": "markdown",
   "id": "5fc7b5ec",
   "metadata": {},
   "source": [
    "**Exercise 1:**\n",
    "\n",
    "**a)** What do the L and the I in the ```Agent.__init__()``` method stand for? (Inspect the code in order to figure this out.) And what variables in the list of parameter settings above would be the right variables to give as input arguments for L and I when initialising an Agent object?\n",
    "\n",
    "**b)** In a code cell below, create two Agent objects, and save them in variables called ```agent_a``` and ```agent_b```, respectively. Then print and inspect the vocabulary matrices of each of these two agents (see the ```__init__()``` method of the ```Agent``` class)."
   ]
  },
  {
   "cell_type": "markdown",
   "id": "82bb230c",
   "metadata": {},
   "source": [
    "**Answer to exercise 1.a):**\n",
    "\n",
    "[Your answer should start here, and, depending on the question, may consist of one or more text cells and/or code cells. You can create as many text and/or code cells as you need in order to answer the question.]"
   ]
  },
  {
   "cell_type": "markdown",
   "id": "7b57f7ab",
   "metadata": {},
   "source": []
  },
  {
   "cell_type": "markdown",
   "id": "510b48ae",
   "metadata": {},
   "source": [
    "**Answer to exercise 1.b):**\n",
    "\n",
    "[Your answer should start here, and, depending on the question, may consist of one or more text cells and/or code cells. You can create as many text and/or code cells as you need in order to answer the question.]"
   ]
  },
  {
   "cell_type": "code",
   "execution_count": null,
   "id": "e089a41e",
   "metadata": {},
   "outputs": [],
   "source": []
  },
  {
   "cell_type": "code",
   "execution_count": null,
   "id": "aba0a02d",
   "metadata": {},
   "outputs": [],
   "source": []
  },
  {
   "cell_type": "code",
   "execution_count": null,
   "id": "6c9c9df9",
   "metadata": {},
   "outputs": [],
   "source": []
  },
  {
   "cell_type": "code",
   "execution_count": null,
   "id": "f9ebee05",
   "metadata": {},
   "outputs": [],
   "source": []
  },
  {
   "cell_type": "code",
   "execution_count": null,
   "id": "3b3affd9",
   "metadata": {},
   "outputs": [],
   "source": []
  },
  {
   "cell_type": "markdown",
   "id": "a4eb1473",
   "metadata": {},
   "source": [
    "**Exercise 2:**\n",
    "\n",
    "**a)** In a code cell below, write some code to have your ```agent_a``` and ```agent_b``` interact with each other for 28 rounds (i.e., twice the number of lemmas). Your code should have the following features:\n",
    "- ```agent_a``` and ```agent_b``` should take turns being the speaker and the hearer.\n",
    "- At each interaction, a random lemma should be selected as the 'topic' for the agents to talk about.\n",
    "- After the speaker agent has produced an utterance, and the hearer agent has interpreted that utterance, both agents should update their vocabulary matrices accordingly.\n",
    "\n",
    "In order to write this code, use the following three methods from the ```Agent``` class:\n",
    "\n",
    "- ```Agent.genInfl()```\n",
    "- ```Agent.hear()```\n",
    "- ```Agent.updateInflection()```\n",
    "\n",
    "**Tip 1:** Before you start writing your code, have a look at how these three methods are defined in the ```Agent``` class above.\n",
    "\n",
    "**Tip 2:** Before you start writing your code, have a look at how these three methods are used in the ```doRuns()``` function below (under the heading _Running simulations_).\n",
    "\n",
    "**Tip 3:** Inspect the ```Agent.hear()``` method carefully, to find out what is needed in order to have the two different agents update their vocabulary matrix.\n",
    "\n",
    "**b)** After having ```agent_a``` and ```agent_b``` interact with each other for 28 timesteps, inspect how their vocabularies have changed, by printing their vocabulary matrices again. Is there a lemma-inflection pair with which ```agent_b``` has had 100% communicative success so far? And what does the entry for that lemma-inflection pair look like for ```agent_a```, compared to for ```agent_b```?"
   ]
  },
  {
   "cell_type": "markdown",
   "id": "89ce70cc",
   "metadata": {},
   "source": [
    "**Answer to exercise 2.a):**\n",
    "\n",
    "[Your answer should start here, and, depending on the question, may consist of one or more text cells and/or code cells. You can create as many text and/or code cells as you need in order to answer the question.]"
   ]
  },
  {
   "cell_type": "code",
   "execution_count": null,
   "id": "99f37f2c",
   "metadata": {},
   "outputs": [],
   "source": []
  },
  {
   "cell_type": "markdown",
   "id": "b99cd880",
   "metadata": {},
   "source": [
    "**Answer to exercise 2.b):**\n",
    "\n",
    "[Your answer should start here, and, depending on the question, may consist of one or more text cells and/or code cells. You can create as many text and/or code cells as you need in order to answer the question.]"
   ]
  },
  {
   "cell_type": "code",
   "execution_count": null,
   "id": "bb4363b5",
   "metadata": {},
   "outputs": [],
   "source": []
  },
  {
   "cell_type": "code",
   "execution_count": null,
   "id": "af2e0c54",
   "metadata": {},
   "outputs": [],
   "source": []
  },
  {
   "cell_type": "markdown",
   "id": "8f1a2202",
   "metadata": {},
   "source": [
    "## Measuring regularity and stability:\n",
    "\n",
    "The functions below are used to measure the regularity and the stability of the language system in the population (see section 2.1.4. _Measuring the system_ in the Cuskley et al., 2018 paper)."
   ]
  },
  {
   "cell_type": "code",
   "execution_count": 18,
   "id": "4d9d2faf",
   "metadata": {
    "ExecuteTime": {
     "end_time": "2024-10-04T16:51:46.215800Z",
     "start_time": "2024-10-04T16:51:46.209473Z"
    }
   },
   "outputs": [],
   "source": [
    "def measureRegularity(p):\n",
    "#     inflcts=[0,0,0,0,0,0,0,0,0,0,0,0]  # This was hard-coded in the original code\n",
    "    inflcts = [0 for x in range(inflections)]\n",
    "    for i in range(inflections):\n",
    "        for agnt in p:\n",
    "            for lem in range(lemmas):\n",
    "                if agnt.genInfl(lem)==i:\n",
    "                    inflcts[i]+=1\n",
    "    inflprobs=[]\n",
    "    activeCt=0\n",
    "    for ct in inflcts:\n",
    "        inflprobs.append(ct / len(p) * lemmas)\n",
    "        if ct>0:\n",
    "            activeCt+=1\n",
    "    return {\"Hv\":entropy(inflprobs),\"activeCount\":activeCt}"
   ]
  },
  {
   "cell_type": "code",
   "execution_count": 19,
   "id": "8138b933",
   "metadata": {
    "ExecuteTime": {
     "end_time": "2024-10-04T16:51:46.223665Z",
     "start_time": "2024-10-04T16:51:46.218582Z"
    }
   },
   "outputs": [],
   "source": [
    "def measureStability(p, L):\n",
    "#     inflcts=[0,0,0,0,0,0,0,0,0,0,0,0]  # This was hard-coded in the original code\n",
    "    inflcts = [0 for x in range(inflections)]\n",
    "    for i in range(inflections):\n",
    "        for agnt in p:\n",
    "            if agnt.genInfl(L)==i:\n",
    "                inflcts[i]+=1\n",
    "    inflprobs=[]\n",
    "    for ct in inflcts:\n",
    "        inflprobs.append(ct/len(p))\n",
    "    return entropy(inflprobs)"
   ]
  },
  {
   "cell_type": "code",
   "execution_count": 20,
   "id": "b4f3c1f6",
   "metadata": {
    "ExecuteTime": {
     "end_time": "2024-10-04T16:51:46.233485Z",
     "start_time": "2024-10-04T16:51:46.227612Z"
    }
   },
   "outputs": [],
   "source": [
    "def getRegIndex(p):\n",
    "#     inflcts=[0,0,0,0,0,0,0,0,0,0,0,0]  # This was hard-coded in the original code\n",
    "    inflcts = [0 for x in range(inflections)]\n",
    "    for i in range(inflections):\n",
    "        for agnt in p:\n",
    "            for lem in range(lemmas):\n",
    "                if agnt.genInfl(lem)==i:\n",
    "                    inflcts[i]+=1\n",
    "    inflvals=list(set(inflcts))\n",
    "    inflvals.sort()\n",
    "    ranks=[]\n",
    "    for i in range(inflections):\n",
    "        ranks.append(inflvals.index(inflcts[i]))\n",
    "    return ranks.index(0)"
   ]
  },
  {
   "cell_type": "code",
   "execution_count": 21,
   "id": "40e7de36",
   "metadata": {
    "ExecuteTime": {
     "end_time": "2024-10-04T16:51:46.240833Z",
     "start_time": "2024-10-04T16:51:46.236603Z"
    }
   },
   "outputs": [],
   "source": [
    "def probReg(L,topInfl,p):\n",
    "    tops=0\n",
    "    for agnt in p:\n",
    "        if agnt.genInfl(L)==topInfl:\n",
    "            tops+=1\n",
    "    return tops/len(p)"
   ]
  },
  {
   "cell_type": "markdown",
   "id": "7338c3c6",
   "metadata": {},
   "source": [
    "## Running simulations:\n",
    "\n",
    "The ```doRuns()``` function below runs several runs of a given simulation, and saves the results of the ```measureRegularity``` function and the ```measureStability()``` function in two dictionaries (in a format that makes it easy to convert into a ```Pandas``` dataframe)."
   ]
  },
  {
   "cell_type": "code",
   "execution_count": 22,
   "id": "22fea0d8",
   "metadata": {
    "ExecuteTime": {
     "end_time": "2024-10-04T16:51:46.257861Z",
     "start_time": "2024-10-04T16:51:46.244097Z"
    }
   },
   "outputs": [],
   "source": [
    "def doRuns(popSize, regularity_dictionary, stability_dictionary):\n",
    "    for run in range(runs):\n",
    "        pop=[]\n",
    "        interTime=0\n",
    "        for a in range(popSize):\n",
    "            pop.append(Agent(lemmas, inflections))\n",
    "        print(\"New population of \", popSize,\" starting agents initialised.\")\n",
    "        print(\"Starting run number \", run,  \"for \",maxTime,\" timesteps, where one step is \",popSize,\" interactions...\")\n",
    "        for t in range(maxTime):\n",
    "            #memory check at the start of a timestep\n",
    "            if t>d:\n",
    "                for p in pop:\n",
    "                    p.purgeLemmas(t)\n",
    "            #now get to interacting\n",
    "            for i in range(popSize):\n",
    "                s=random.randint(0,len(pop)-1)\n",
    "                h=random.randint(0,len(pop)-1)\n",
    "                while s==h:\n",
    "                    h=random.randint(0,len(pop)-1)\n",
    "                topic=random.choice(topic_list)\n",
    "                if pop[s].hasInflections(topic):\n",
    "                    utterance=pop[s].getBestInfl(topic)\n",
    "                else:\n",
    "                    utterance=pop[s].genInfl(topic)\n",
    "                result=pop[h].hear(topic,utterance,t)#hearing entails update, returns result\n",
    "                pop[s].updateInflection(topic,utterance,result,t)\n",
    "\n",
    "                #REPLACEMENT AND GROWTH HERE\n",
    "                if doReplace:\n",
    "                    rDice=random.uniform(0,1)\n",
    "                    if rDice<=r:\n",
    "                        #make a random agent a baby\n",
    "                        youbaby=random.randint(0,len(pop)-1)\n",
    "                        pop[youbaby].resetAgent(lemmas, inflections)\n",
    "                if doGrowth:\n",
    "                    gDice=random.uniform(0,1)\n",
    "                    if gDice<=g:\n",
    "                        #add an agent\n",
    "                        pop.append(Agent(lemmas, inflections))\n",
    "                        \n",
    "            #Recording each timestep: number of active inflections and hv\n",
    "            regInfo=measureRegularity(pop)\n",
    "            regularity_dictionary[\"Run\"].append(run)\n",
    "            regularity_dictionary[\"Timestep\"].append(t)\n",
    "            regularity_dictionary[\"InitPopSize\"].append(popSize)\n",
    "            regularity_dictionary[\"H_v\"].append(regInfo[\"Hv\"])\n",
    "            regularity_dictionary[\"ActiveInfl\"].append(regInfo[\"activeCount\"])\n",
    "\n",
    "        reg = getRegIndex(pop)\n",
    "        for l in range(lemmas):\n",
    "            stability_dictionary[\"Run\"].append(run)\n",
    "            stability_dictionary[\"InitPopSize\"].append(popSize)\n",
    "            stability_dictionary[\"EndPopSize\"].append(len(pop))\n",
    "            stability_dictionary[\"LemmaIndex\"].append(l)\n",
    "            stability_dictionary[\"LemmaFrequency\"].append(lemfreq[l]/len(topic_list))\n",
    "            stability_dictionary[\"H_l\"].append(measureStability(pop,l))\n",
    "            stability_dictionary[\"PropReg\"].append(probReg(l,reg,pop))\n",
    "\n",
    "    return regularity_dictionary, stability_dictionary"
   ]
  },
  {
   "cell_type": "markdown",
   "id": "4d620e29",
   "metadata": {},
   "source": [
    "The code cell below defines a function called ```run_simulations()``` that can run a number of simulations (as many as specified by the ```runs``` parameter), for each population size as specified by the ```popSizes_to_compare``` parameter. The ```run_simulations()``` function calls the ```doRuns()``` function defined above.\n",
    "\n",
    "The ```run_simulations()``` function returns to output variables: ```regularity_dataframes_combined``` and ```stability_dataframes_combined```. These are two ```pandas``` dataframes, which contain the results of the ```measureRegularity``` function and the ```measureStability()``` function, respectively.\n",
    "Before returning this output, the ```run_simulations()``` function also saves those pandas dataframes as ```pickle``` files on your machine, so you don't lose your simulation results if you close this notebook. (It saves the files to the same folder that this notebook is in.)"
   ]
  },
  {
   "cell_type": "code",
   "execution_count": 23,
   "id": "5ac80bf1",
   "metadata": {
    "ExecuteTime": {
     "end_time": "2024-10-04T16:51:46.273301Z",
     "start_time": "2024-10-04T16:51:46.262379Z"
    }
   },
   "outputs": [],
   "source": [
    "def run_simulations():\n",
    "    regularity_results_per_popSize = []\n",
    "    stability_results_per_popSize = []\n",
    "    for i in range(len(popSizes_to_compare)):\n",
    "\n",
    "        start = time.time()\n",
    "\n",
    "        popSize = popSizes_to_compare[i]\n",
    "\n",
    "        print(\"Prepping for N=\",popSize,\"; replace=\",doReplace,\"; grow=\",doGrowth,\". Doing \", runs,\" runs, each for \",maxTime,\"timesteps.\")\n",
    "\n",
    "        regularity_dictionary = {\"Run\":[], \"Timestep\":[], \"InitPopSize\":[], \"H_v\":[], \"ActiveInfl\":[]}\n",
    "        stability_dictionary = {\"Run\":[], \"InitPopSize\":[], \"EndPopSize\":[], \"LemmaIndex\":[], \"LemmaFrequency\":[], \"H_l\":[], \"PropReg\":[]}\n",
    "\n",
    "        regularity_results, stability_results = doRuns(popSize, regularity_dictionary, stability_dictionary)\n",
    "\n",
    "        regularity_dataframe = pd.DataFrame(regularity_results)\n",
    "\n",
    "        stability_dataframe = pd.DataFrame(stability_results)\n",
    "\n",
    "        regularity_results_per_popSize.append(regularity_dataframe)\n",
    "\n",
    "        stability_results_per_popSize.append(stability_dataframe)\n",
    "\n",
    "        end = time.time()\n",
    "        print(\"Run time for popSize \"+str(popSize)+\" in min.:\")\n",
    "        print((end - start) / 60.)\n",
    "\n",
    "\n",
    "    regularity_dataframes_combined = pd.concat(regularity_results_per_popSize)\n",
    "\n",
    "    stability_dataframes_combined = pd.concat(stability_results_per_popSize)\n",
    "\n",
    "    #  Let's make sure we save the resulting dataframes (as a pickle file), so that we can reuse them later, without\n",
    "    #  having to run the whole simulation again. And let's put all the parameter settings in the file name, so that\n",
    "    #  new simulation files with slightly different parameter settings cannot accidentally overwrite earlier ones\n",
    "    #  (this creates very long filenames, but it's worth it, to be on the save side):\n",
    "\n",
    "    regularity_dataframes_combined.to_pickle(\"./regularity_dataframes_\"+\"small_pop_\"+str(popSizes_to_compare[0])+\"_large_pop_\"+str(popSizes_to_compare[1])+\"_runs_\" + str(runs) + \"_tsteps_\" + str(maxTime) + \"_replacement_\" + str(doReplace) + \"_growth_\" + str(doGrowth) + \"_n_lem_\" + str(lemmas) + \"_n_infl_\" + str(\n",
    "            inflections) + \"_k_\" + str(k) +\".pkl\")\n",
    "\n",
    "    stability_dataframes_combined.to_pickle(\"./stability_dataframes_\"+\"small_pop_\"+str(popSizes_to_compare[0])+\"_large_pop_\"+str(popSizes_to_compare[1])+\"_runs_\" + str(runs) + \"_tsteps_\" + str(maxTime) + \"_replacement_\" + str(doReplace) + \"_growth_\" + str(doGrowth) + \"_n_lem_\" + str(lemmas) + \"_n_infl_\" + str(\n",
    "            inflections) + \"_k_\" + str(k) +\".pkl\")\n",
    "\n",
    "    return regularity_dataframes_combined, stability_dataframes_combined"
   ]
  },
  {
   "cell_type": "markdown",
   "id": "58f58b7f",
   "metadata": {},
   "source": [
    "The code cell below calls the run_simulation() function to run simulations with the parameter settings that were specified at the top of the notebook. Using those parameter settings, running the code cell below should take about 5 minutes."
   ]
  },
  {
   "cell_type": "code",
   "execution_count": 24,
   "id": "56d608fe",
   "metadata": {
    "ExecuteTime": {
     "end_time": "2024-10-04T16:55:49.439349Z",
     "start_time": "2024-10-04T16:51:46.276204Z"
    }
   },
   "outputs": [
    {
     "name": "stdout",
     "output_type": "stream",
     "text": [
      "Prepping for N= 10 ; replace= True ; grow= False . Doing  2  runs, each for  2000 timesteps.\n",
      "New population of  10  starting agents initialised.\n",
      "Starting run number  0 for  2000  timesteps, where one step is  10  interactions...\n",
      "New population of  10  starting agents initialised.\n",
      "Starting run number  1 for  2000  timesteps, where one step is  10  interactions...\n",
      "Run time for popSize 10 in min.:\n",
      "0.7781110008557638\n",
      "Prepping for N= 50 ; replace= True ; grow= False . Doing  2  runs, each for  2000 timesteps.\n",
      "New population of  50  starting agents initialised.\n",
      "Starting run number  0 for  2000  timesteps, where one step is  50  interactions...\n",
      "New population of  50  starting agents initialised.\n",
      "Starting run number  1 for  2000  timesteps, where one step is  50  interactions...\n",
      "Run time for popSize 50 in min.:\n",
      "3.2744574348131814\n"
     ]
    }
   ],
   "source": [
    "regularity_dataframe, stability_dataframe = run_simulations()"
   ]
  },
  {
   "cell_type": "markdown",
   "id": "013b6811",
   "metadata": {},
   "source": [
    "## Inspecting the dataframes with simulation results:\n",
    "\n",
    "Let's inspect the dataframes that were created, for the different population sizes:"
   ]
  },
  {
   "cell_type": "code",
   "execution_count": 37,
   "id": "deac30b9",
   "metadata": {
    "ExecuteTime": {
     "end_time": "2024-10-04T16:56:03.958679Z",
     "start_time": "2024-10-04T16:56:03.948418Z"
    }
   },
   "outputs": [
    {
     "data": {
      "text/html": [
       "<div>\n",
       "<style scoped>\n",
       "    .dataframe tbody tr th:only-of-type {\n",
       "        vertical-align: middle;\n",
       "    }\n",
       "\n",
       "    .dataframe tbody tr th {\n",
       "        vertical-align: top;\n",
       "    }\n",
       "\n",
       "    .dataframe thead th {\n",
       "        text-align: right;\n",
       "    }\n",
       "</style>\n",
       "<table border=\"1\" class=\"dataframe\">\n",
       "  <thead>\n",
       "    <tr style=\"text-align: right;\">\n",
       "      <th></th>\n",
       "      <th>Run</th>\n",
       "      <th>Timestep</th>\n",
       "      <th>InitPopSize</th>\n",
       "      <th>H_v</th>\n",
       "      <th>ActiveInfl</th>\n",
       "    </tr>\n",
       "  </thead>\n",
       "  <tbody>\n",
       "    <tr>\n",
       "      <th>0</th>\n",
       "      <td>0</td>\n",
       "      <td>0</td>\n",
       "      <td>10</td>\n",
       "      <td>1.772310</td>\n",
       "      <td>6</td>\n",
       "    </tr>\n",
       "    <tr>\n",
       "      <th>1</th>\n",
       "      <td>0</td>\n",
       "      <td>1</td>\n",
       "      <td>10</td>\n",
       "      <td>1.710592</td>\n",
       "      <td>6</td>\n",
       "    </tr>\n",
       "    <tr>\n",
       "      <th>2</th>\n",
       "      <td>0</td>\n",
       "      <td>2</td>\n",
       "      <td>10</td>\n",
       "      <td>1.586461</td>\n",
       "      <td>6</td>\n",
       "    </tr>\n",
       "    <tr>\n",
       "      <th>3</th>\n",
       "      <td>0</td>\n",
       "      <td>3</td>\n",
       "      <td>10</td>\n",
       "      <td>1.548877</td>\n",
       "      <td>6</td>\n",
       "    </tr>\n",
       "    <tr>\n",
       "      <th>4</th>\n",
       "      <td>0</td>\n",
       "      <td>4</td>\n",
       "      <td>10</td>\n",
       "      <td>1.252142</td>\n",
       "      <td>6</td>\n",
       "    </tr>\n",
       "  </tbody>\n",
       "</table>\n",
       "</div>"
      ],
      "text/plain": [
       "   Run  Timestep  InitPopSize       H_v  ActiveInfl\n",
       "0    0         0           10  1.772310           6\n",
       "1    0         1           10  1.710592           6\n",
       "2    0         2           10  1.586461           6\n",
       "3    0         3           10  1.548877           6\n",
       "4    0         4           10  1.252142           6"
      ]
     },
     "execution_count": 37,
     "metadata": {},
     "output_type": "execute_result"
    }
   ],
   "source": [
    "regularity_dataframe[regularity_dataframe[\"InitPopSize\"]==popSizes_to_compare[0]].head()"
   ]
  },
  {
   "cell_type": "code",
   "execution_count": 38,
   "id": "bd2f5b6a",
   "metadata": {
    "ExecuteTime": {
     "end_time": "2024-10-04T16:56:04.460084Z",
     "start_time": "2024-10-04T16:56:04.448937Z"
    }
   },
   "outputs": [
    {
     "data": {
      "text/html": [
       "<div>\n",
       "<style scoped>\n",
       "    .dataframe tbody tr th:only-of-type {\n",
       "        vertical-align: middle;\n",
       "    }\n",
       "\n",
       "    .dataframe tbody tr th {\n",
       "        vertical-align: top;\n",
       "    }\n",
       "\n",
       "    .dataframe thead th {\n",
       "        text-align: right;\n",
       "    }\n",
       "</style>\n",
       "<table border=\"1\" class=\"dataframe\">\n",
       "  <thead>\n",
       "    <tr style=\"text-align: right;\">\n",
       "      <th></th>\n",
       "      <th>Run</th>\n",
       "      <th>Timestep</th>\n",
       "      <th>InitPopSize</th>\n",
       "      <th>H_v</th>\n",
       "      <th>ActiveInfl</th>\n",
       "    </tr>\n",
       "  </thead>\n",
       "  <tbody>\n",
       "    <tr>\n",
       "      <th>3995</th>\n",
       "      <td>1</td>\n",
       "      <td>1995</td>\n",
       "      <td>10</td>\n",
       "      <td>0.000000</td>\n",
       "      <td>1</td>\n",
       "    </tr>\n",
       "    <tr>\n",
       "      <th>3996</th>\n",
       "      <td>1</td>\n",
       "      <td>1996</td>\n",
       "      <td>10</td>\n",
       "      <td>0.000000</td>\n",
       "      <td>1</td>\n",
       "    </tr>\n",
       "    <tr>\n",
       "      <th>3997</th>\n",
       "      <td>1</td>\n",
       "      <td>1997</td>\n",
       "      <td>10</td>\n",
       "      <td>0.000000</td>\n",
       "      <td>1</td>\n",
       "    </tr>\n",
       "    <tr>\n",
       "      <th>3998</th>\n",
       "      <td>1</td>\n",
       "      <td>1998</td>\n",
       "      <td>10</td>\n",
       "      <td>0.340411</td>\n",
       "      <td>6</td>\n",
       "    </tr>\n",
       "    <tr>\n",
       "      <th>3999</th>\n",
       "      <td>1</td>\n",
       "      <td>1999</td>\n",
       "      <td>10</td>\n",
       "      <td>0.295839</td>\n",
       "      <td>5</td>\n",
       "    </tr>\n",
       "  </tbody>\n",
       "</table>\n",
       "</div>"
      ],
      "text/plain": [
       "      Run  Timestep  InitPopSize       H_v  ActiveInfl\n",
       "3995    1      1995           10  0.000000           1\n",
       "3996    1      1996           10  0.000000           1\n",
       "3997    1      1997           10  0.000000           1\n",
       "3998    1      1998           10  0.340411           6\n",
       "3999    1      1999           10  0.295839           5"
      ]
     },
     "execution_count": 38,
     "metadata": {},
     "output_type": "execute_result"
    }
   ],
   "source": [
    "regularity_dataframe[regularity_dataframe[\"InitPopSize\"]==popSizes_to_compare[0]].tail()"
   ]
  },
  {
   "cell_type": "code",
   "execution_count": 39,
   "id": "ec3caedb",
   "metadata": {
    "ExecuteTime": {
     "end_time": "2024-10-04T16:56:04.942337Z",
     "start_time": "2024-10-04T16:56:04.930432Z"
    }
   },
   "outputs": [
    {
     "data": {
      "text/html": [
       "<div>\n",
       "<style scoped>\n",
       "    .dataframe tbody tr th:only-of-type {\n",
       "        vertical-align: middle;\n",
       "    }\n",
       "\n",
       "    .dataframe tbody tr th {\n",
       "        vertical-align: top;\n",
       "    }\n",
       "\n",
       "    .dataframe thead th {\n",
       "        text-align: right;\n",
       "    }\n",
       "</style>\n",
       "<table border=\"1\" class=\"dataframe\">\n",
       "  <thead>\n",
       "    <tr style=\"text-align: right;\">\n",
       "      <th></th>\n",
       "      <th>Run</th>\n",
       "      <th>Timestep</th>\n",
       "      <th>InitPopSize</th>\n",
       "      <th>H_v</th>\n",
       "      <th>ActiveInfl</th>\n",
       "    </tr>\n",
       "  </thead>\n",
       "  <tbody>\n",
       "    <tr>\n",
       "      <th>0</th>\n",
       "      <td>0</td>\n",
       "      <td>0</td>\n",
       "      <td>50</td>\n",
       "      <td>1.761131</td>\n",
       "      <td>6</td>\n",
       "    </tr>\n",
       "    <tr>\n",
       "      <th>1</th>\n",
       "      <td>0</td>\n",
       "      <td>1</td>\n",
       "      <td>50</td>\n",
       "      <td>1.717484</td>\n",
       "      <td>6</td>\n",
       "    </tr>\n",
       "    <tr>\n",
       "      <th>2</th>\n",
       "      <td>0</td>\n",
       "      <td>2</td>\n",
       "      <td>50</td>\n",
       "      <td>1.707722</td>\n",
       "      <td>6</td>\n",
       "    </tr>\n",
       "    <tr>\n",
       "      <th>3</th>\n",
       "      <td>0</td>\n",
       "      <td>3</td>\n",
       "      <td>50</td>\n",
       "      <td>1.688860</td>\n",
       "      <td>6</td>\n",
       "    </tr>\n",
       "    <tr>\n",
       "      <th>4</th>\n",
       "      <td>0</td>\n",
       "      <td>4</td>\n",
       "      <td>50</td>\n",
       "      <td>1.704899</td>\n",
       "      <td>6</td>\n",
       "    </tr>\n",
       "  </tbody>\n",
       "</table>\n",
       "</div>"
      ],
      "text/plain": [
       "   Run  Timestep  InitPopSize       H_v  ActiveInfl\n",
       "0    0         0           50  1.761131           6\n",
       "1    0         1           50  1.717484           6\n",
       "2    0         2           50  1.707722           6\n",
       "3    0         3           50  1.688860           6\n",
       "4    0         4           50  1.704899           6"
      ]
     },
     "execution_count": 39,
     "metadata": {},
     "output_type": "execute_result"
    }
   ],
   "source": [
    "regularity_dataframe[regularity_dataframe[\"InitPopSize\"]==popSizes_to_compare[1]].head()"
   ]
  },
  {
   "cell_type": "code",
   "execution_count": 40,
   "id": "48b77c9c",
   "metadata": {
    "ExecuteTime": {
     "end_time": "2024-10-04T16:56:05.469191Z",
     "start_time": "2024-10-04T16:56:05.457589Z"
    }
   },
   "outputs": [
    {
     "data": {
      "text/html": [
       "<div>\n",
       "<style scoped>\n",
       "    .dataframe tbody tr th:only-of-type {\n",
       "        vertical-align: middle;\n",
       "    }\n",
       "\n",
       "    .dataframe tbody tr th {\n",
       "        vertical-align: top;\n",
       "    }\n",
       "\n",
       "    .dataframe thead th {\n",
       "        text-align: right;\n",
       "    }\n",
       "</style>\n",
       "<table border=\"1\" class=\"dataframe\">\n",
       "  <thead>\n",
       "    <tr style=\"text-align: right;\">\n",
       "      <th></th>\n",
       "      <th>Run</th>\n",
       "      <th>Timestep</th>\n",
       "      <th>InitPopSize</th>\n",
       "      <th>H_v</th>\n",
       "      <th>ActiveInfl</th>\n",
       "    </tr>\n",
       "  </thead>\n",
       "  <tbody>\n",
       "    <tr>\n",
       "      <th>3995</th>\n",
       "      <td>1</td>\n",
       "      <td>1995</td>\n",
       "      <td>50</td>\n",
       "      <td>0.0</td>\n",
       "      <td>1</td>\n",
       "    </tr>\n",
       "    <tr>\n",
       "      <th>3996</th>\n",
       "      <td>1</td>\n",
       "      <td>1996</td>\n",
       "      <td>50</td>\n",
       "      <td>0.0</td>\n",
       "      <td>1</td>\n",
       "    </tr>\n",
       "    <tr>\n",
       "      <th>3997</th>\n",
       "      <td>1</td>\n",
       "      <td>1997</td>\n",
       "      <td>50</td>\n",
       "      <td>0.0</td>\n",
       "      <td>1</td>\n",
       "    </tr>\n",
       "    <tr>\n",
       "      <th>3998</th>\n",
       "      <td>1</td>\n",
       "      <td>1998</td>\n",
       "      <td>50</td>\n",
       "      <td>0.0</td>\n",
       "      <td>1</td>\n",
       "    </tr>\n",
       "    <tr>\n",
       "      <th>3999</th>\n",
       "      <td>1</td>\n",
       "      <td>1999</td>\n",
       "      <td>50</td>\n",
       "      <td>0.0</td>\n",
       "      <td>1</td>\n",
       "    </tr>\n",
       "  </tbody>\n",
       "</table>\n",
       "</div>"
      ],
      "text/plain": [
       "      Run  Timestep  InitPopSize  H_v  ActiveInfl\n",
       "3995    1      1995           50  0.0           1\n",
       "3996    1      1996           50  0.0           1\n",
       "3997    1      1997           50  0.0           1\n",
       "3998    1      1998           50  0.0           1\n",
       "3999    1      1999           50  0.0           1"
      ]
     },
     "execution_count": 40,
     "metadata": {},
     "output_type": "execute_result"
    }
   ],
   "source": [
    "regularity_dataframe[regularity_dataframe[\"InitPopSize\"]==popSizes_to_compare[1]].tail()"
   ]
  },
  {
   "cell_type": "code",
   "execution_count": 41,
   "id": "e7aa6978",
   "metadata": {
    "ExecuteTime": {
     "end_time": "2024-10-04T16:56:05.859030Z",
     "start_time": "2024-10-04T16:56:05.845332Z"
    }
   },
   "outputs": [
    {
     "data": {
      "text/html": [
       "<div>\n",
       "<style scoped>\n",
       "    .dataframe tbody tr th:only-of-type {\n",
       "        vertical-align: middle;\n",
       "    }\n",
       "\n",
       "    .dataframe tbody tr th {\n",
       "        vertical-align: top;\n",
       "    }\n",
       "\n",
       "    .dataframe thead th {\n",
       "        text-align: right;\n",
       "    }\n",
       "</style>\n",
       "<table border=\"1\" class=\"dataframe\">\n",
       "  <thead>\n",
       "    <tr style=\"text-align: right;\">\n",
       "      <th></th>\n",
       "      <th>Run</th>\n",
       "      <th>InitPopSize</th>\n",
       "      <th>EndPopSize</th>\n",
       "      <th>LemmaIndex</th>\n",
       "      <th>LemmaFrequency</th>\n",
       "      <th>H_l</th>\n",
       "      <th>PropReg</th>\n",
       "    </tr>\n",
       "  </thead>\n",
       "  <tbody>\n",
       "    <tr>\n",
       "      <th>0</th>\n",
       "      <td>0</td>\n",
       "      <td>10</td>\n",
       "      <td>10</td>\n",
       "      <td>0</td>\n",
       "      <td>0.044</td>\n",
       "      <td>0.0</td>\n",
       "      <td>0.0</td>\n",
       "    </tr>\n",
       "    <tr>\n",
       "      <th>1</th>\n",
       "      <td>0</td>\n",
       "      <td>10</td>\n",
       "      <td>10</td>\n",
       "      <td>1</td>\n",
       "      <td>0.086</td>\n",
       "      <td>0.0</td>\n",
       "      <td>0.0</td>\n",
       "    </tr>\n",
       "    <tr>\n",
       "      <th>2</th>\n",
       "      <td>0</td>\n",
       "      <td>10</td>\n",
       "      <td>10</td>\n",
       "      <td>2</td>\n",
       "      <td>0.044</td>\n",
       "      <td>0.0</td>\n",
       "      <td>0.0</td>\n",
       "    </tr>\n",
       "    <tr>\n",
       "      <th>3</th>\n",
       "      <td>0</td>\n",
       "      <td>10</td>\n",
       "      <td>10</td>\n",
       "      <td>3</td>\n",
       "      <td>0.088</td>\n",
       "      <td>0.0</td>\n",
       "      <td>0.0</td>\n",
       "    </tr>\n",
       "    <tr>\n",
       "      <th>4</th>\n",
       "      <td>0</td>\n",
       "      <td>10</td>\n",
       "      <td>10</td>\n",
       "      <td>4</td>\n",
       "      <td>0.044</td>\n",
       "      <td>0.0</td>\n",
       "      <td>0.0</td>\n",
       "    </tr>\n",
       "  </tbody>\n",
       "</table>\n",
       "</div>"
      ],
      "text/plain": [
       "   Run  InitPopSize  EndPopSize  LemmaIndex  LemmaFrequency  H_l  PropReg\n",
       "0    0           10          10           0           0.044  0.0      0.0\n",
       "1    0           10          10           1           0.086  0.0      0.0\n",
       "2    0           10          10           2           0.044  0.0      0.0\n",
       "3    0           10          10           3           0.088  0.0      0.0\n",
       "4    0           10          10           4           0.044  0.0      0.0"
      ]
     },
     "execution_count": 41,
     "metadata": {},
     "output_type": "execute_result"
    }
   ],
   "source": [
    "stability_dataframe[stability_dataframe[\"InitPopSize\"]==popSizes_to_compare[0]].head()"
   ]
  },
  {
   "cell_type": "code",
   "execution_count": 42,
   "id": "b6f399cb",
   "metadata": {
    "ExecuteTime": {
     "end_time": "2024-10-04T16:56:06.306441Z",
     "start_time": "2024-10-04T16:56:06.292747Z"
    }
   },
   "outputs": [
    {
     "data": {
      "text/html": [
       "<div>\n",
       "<style scoped>\n",
       "    .dataframe tbody tr th:only-of-type {\n",
       "        vertical-align: middle;\n",
       "    }\n",
       "\n",
       "    .dataframe tbody tr th {\n",
       "        vertical-align: top;\n",
       "    }\n",
       "\n",
       "    .dataframe thead th {\n",
       "        text-align: right;\n",
       "    }\n",
       "</style>\n",
       "<table border=\"1\" class=\"dataframe\">\n",
       "  <thead>\n",
       "    <tr style=\"text-align: right;\">\n",
       "      <th></th>\n",
       "      <th>Run</th>\n",
       "      <th>InitPopSize</th>\n",
       "      <th>EndPopSize</th>\n",
       "      <th>LemmaIndex</th>\n",
       "      <th>LemmaFrequency</th>\n",
       "      <th>H_l</th>\n",
       "      <th>PropReg</th>\n",
       "    </tr>\n",
       "  </thead>\n",
       "  <tbody>\n",
       "    <tr>\n",
       "      <th>23</th>\n",
       "      <td>1</td>\n",
       "      <td>10</td>\n",
       "      <td>10</td>\n",
       "      <td>9</td>\n",
       "      <td>0.042</td>\n",
       "      <td>0.000000</td>\n",
       "      <td>0.0</td>\n",
       "    </tr>\n",
       "    <tr>\n",
       "      <th>24</th>\n",
       "      <td>1</td>\n",
       "      <td>10</td>\n",
       "      <td>10</td>\n",
       "      <td>10</td>\n",
       "      <td>0.044</td>\n",
       "      <td>0.304636</td>\n",
       "      <td>0.0</td>\n",
       "    </tr>\n",
       "    <tr>\n",
       "      <th>25</th>\n",
       "      <td>1</td>\n",
       "      <td>10</td>\n",
       "      <td>10</td>\n",
       "      <td>11</td>\n",
       "      <td>0.044</td>\n",
       "      <td>0.000000</td>\n",
       "      <td>0.0</td>\n",
       "    </tr>\n",
       "    <tr>\n",
       "      <th>26</th>\n",
       "      <td>1</td>\n",
       "      <td>10</td>\n",
       "      <td>10</td>\n",
       "      <td>12</td>\n",
       "      <td>0.258</td>\n",
       "      <td>0.325083</td>\n",
       "      <td>0.0</td>\n",
       "    </tr>\n",
       "    <tr>\n",
       "      <th>27</th>\n",
       "      <td>1</td>\n",
       "      <td>10</td>\n",
       "      <td>10</td>\n",
       "      <td>13</td>\n",
       "      <td>0.088</td>\n",
       "      <td>0.000000</td>\n",
       "      <td>0.0</td>\n",
       "    </tr>\n",
       "  </tbody>\n",
       "</table>\n",
       "</div>"
      ],
      "text/plain": [
       "    Run  InitPopSize  EndPopSize  LemmaIndex  LemmaFrequency       H_l  \\\n",
       "23    1           10          10           9           0.042  0.000000   \n",
       "24    1           10          10          10           0.044  0.304636   \n",
       "25    1           10          10          11           0.044  0.000000   \n",
       "26    1           10          10          12           0.258  0.325083   \n",
       "27    1           10          10          13           0.088  0.000000   \n",
       "\n",
       "    PropReg  \n",
       "23      0.0  \n",
       "24      0.0  \n",
       "25      0.0  \n",
       "26      0.0  \n",
       "27      0.0  "
      ]
     },
     "execution_count": 42,
     "metadata": {},
     "output_type": "execute_result"
    }
   ],
   "source": [
    "stability_dataframe[stability_dataframe[\"InitPopSize\"]==popSizes_to_compare[0]].tail()"
   ]
  },
  {
   "cell_type": "code",
   "execution_count": 43,
   "id": "54fb4ba8",
   "metadata": {
    "ExecuteTime": {
     "end_time": "2024-10-04T16:56:06.713217Z",
     "start_time": "2024-10-04T16:56:06.699268Z"
    }
   },
   "outputs": [
    {
     "data": {
      "text/html": [
       "<div>\n",
       "<style scoped>\n",
       "    .dataframe tbody tr th:only-of-type {\n",
       "        vertical-align: middle;\n",
       "    }\n",
       "\n",
       "    .dataframe tbody tr th {\n",
       "        vertical-align: top;\n",
       "    }\n",
       "\n",
       "    .dataframe thead th {\n",
       "        text-align: right;\n",
       "    }\n",
       "</style>\n",
       "<table border=\"1\" class=\"dataframe\">\n",
       "  <thead>\n",
       "    <tr style=\"text-align: right;\">\n",
       "      <th></th>\n",
       "      <th>Run</th>\n",
       "      <th>InitPopSize</th>\n",
       "      <th>EndPopSize</th>\n",
       "      <th>LemmaIndex</th>\n",
       "      <th>LemmaFrequency</th>\n",
       "      <th>H_l</th>\n",
       "      <th>PropReg</th>\n",
       "    </tr>\n",
       "  </thead>\n",
       "  <tbody>\n",
       "    <tr>\n",
       "      <th>0</th>\n",
       "      <td>0</td>\n",
       "      <td>50</td>\n",
       "      <td>50</td>\n",
       "      <td>0</td>\n",
       "      <td>0.044</td>\n",
       "      <td>0.0</td>\n",
       "      <td>0.0</td>\n",
       "    </tr>\n",
       "    <tr>\n",
       "      <th>1</th>\n",
       "      <td>0</td>\n",
       "      <td>50</td>\n",
       "      <td>50</td>\n",
       "      <td>1</td>\n",
       "      <td>0.086</td>\n",
       "      <td>0.0</td>\n",
       "      <td>0.0</td>\n",
       "    </tr>\n",
       "    <tr>\n",
       "      <th>2</th>\n",
       "      <td>0</td>\n",
       "      <td>50</td>\n",
       "      <td>50</td>\n",
       "      <td>2</td>\n",
       "      <td>0.044</td>\n",
       "      <td>0.0</td>\n",
       "      <td>0.0</td>\n",
       "    </tr>\n",
       "    <tr>\n",
       "      <th>3</th>\n",
       "      <td>0</td>\n",
       "      <td>50</td>\n",
       "      <td>50</td>\n",
       "      <td>3</td>\n",
       "      <td>0.088</td>\n",
       "      <td>0.0</td>\n",
       "      <td>0.0</td>\n",
       "    </tr>\n",
       "    <tr>\n",
       "      <th>4</th>\n",
       "      <td>0</td>\n",
       "      <td>50</td>\n",
       "      <td>50</td>\n",
       "      <td>4</td>\n",
       "      <td>0.044</td>\n",
       "      <td>0.0</td>\n",
       "      <td>0.0</td>\n",
       "    </tr>\n",
       "  </tbody>\n",
       "</table>\n",
       "</div>"
      ],
      "text/plain": [
       "   Run  InitPopSize  EndPopSize  LemmaIndex  LemmaFrequency  H_l  PropReg\n",
       "0    0           50          50           0           0.044  0.0      0.0\n",
       "1    0           50          50           1           0.086  0.0      0.0\n",
       "2    0           50          50           2           0.044  0.0      0.0\n",
       "3    0           50          50           3           0.088  0.0      0.0\n",
       "4    0           50          50           4           0.044  0.0      0.0"
      ]
     },
     "execution_count": 43,
     "metadata": {},
     "output_type": "execute_result"
    }
   ],
   "source": [
    "stability_dataframe[stability_dataframe[\"InitPopSize\"]==popSizes_to_compare[1]].head()"
   ]
  },
  {
   "cell_type": "code",
   "execution_count": 44,
   "id": "a1d70bd4",
   "metadata": {
    "ExecuteTime": {
     "end_time": "2024-10-04T16:56:07.153201Z",
     "start_time": "2024-10-04T16:56:07.139636Z"
    }
   },
   "outputs": [
    {
     "data": {
      "text/html": [
       "<div>\n",
       "<style scoped>\n",
       "    .dataframe tbody tr th:only-of-type {\n",
       "        vertical-align: middle;\n",
       "    }\n",
       "\n",
       "    .dataframe tbody tr th {\n",
       "        vertical-align: top;\n",
       "    }\n",
       "\n",
       "    .dataframe thead th {\n",
       "        text-align: right;\n",
       "    }\n",
       "</style>\n",
       "<table border=\"1\" class=\"dataframe\">\n",
       "  <thead>\n",
       "    <tr style=\"text-align: right;\">\n",
       "      <th></th>\n",
       "      <th>Run</th>\n",
       "      <th>InitPopSize</th>\n",
       "      <th>EndPopSize</th>\n",
       "      <th>LemmaIndex</th>\n",
       "      <th>LemmaFrequency</th>\n",
       "      <th>H_l</th>\n",
       "      <th>PropReg</th>\n",
       "    </tr>\n",
       "  </thead>\n",
       "  <tbody>\n",
       "    <tr>\n",
       "      <th>23</th>\n",
       "      <td>1</td>\n",
       "      <td>50</td>\n",
       "      <td>50</td>\n",
       "      <td>9</td>\n",
       "      <td>0.042</td>\n",
       "      <td>0.0</td>\n",
       "      <td>0.0</td>\n",
       "    </tr>\n",
       "    <tr>\n",
       "      <th>24</th>\n",
       "      <td>1</td>\n",
       "      <td>50</td>\n",
       "      <td>50</td>\n",
       "      <td>10</td>\n",
       "      <td>0.044</td>\n",
       "      <td>0.0</td>\n",
       "      <td>0.0</td>\n",
       "    </tr>\n",
       "    <tr>\n",
       "      <th>25</th>\n",
       "      <td>1</td>\n",
       "      <td>50</td>\n",
       "      <td>50</td>\n",
       "      <td>11</td>\n",
       "      <td>0.044</td>\n",
       "      <td>0.0</td>\n",
       "      <td>0.0</td>\n",
       "    </tr>\n",
       "    <tr>\n",
       "      <th>26</th>\n",
       "      <td>1</td>\n",
       "      <td>50</td>\n",
       "      <td>50</td>\n",
       "      <td>12</td>\n",
       "      <td>0.258</td>\n",
       "      <td>0.0</td>\n",
       "      <td>0.0</td>\n",
       "    </tr>\n",
       "    <tr>\n",
       "      <th>27</th>\n",
       "      <td>1</td>\n",
       "      <td>50</td>\n",
       "      <td>50</td>\n",
       "      <td>13</td>\n",
       "      <td>0.088</td>\n",
       "      <td>0.0</td>\n",
       "      <td>0.0</td>\n",
       "    </tr>\n",
       "  </tbody>\n",
       "</table>\n",
       "</div>"
      ],
      "text/plain": [
       "    Run  InitPopSize  EndPopSize  LemmaIndex  LemmaFrequency  H_l  PropReg\n",
       "23    1           50          50           9           0.042  0.0      0.0\n",
       "24    1           50          50          10           0.044  0.0      0.0\n",
       "25    1           50          50          11           0.044  0.0      0.0\n",
       "26    1           50          50          12           0.258  0.0      0.0\n",
       "27    1           50          50          13           0.088  0.0      0.0"
      ]
     },
     "execution_count": 44,
     "metadata": {},
     "output_type": "execute_result"
    }
   ],
   "source": [
    "stability_dataframe[stability_dataframe[\"InitPopSize\"]==popSizes_to_compare[1]].tail()"
   ]
  },
  {
   "cell_type": "markdown",
   "id": "d3677e6b",
   "metadata": {},
   "source": [
    "Run the code cell below to check whether there are at least some fluctuations/variations in the stability of the lexicon over time in your simulations. If the code cell below returns 0.0, you might need to increase the population sizes a little bit, or the number of timesteps:"
   ]
  },
  {
   "cell_type": "code",
   "execution_count": 45,
   "id": "b33dce97",
   "metadata": {
    "ExecuteTime": {
     "end_time": "2024-10-04T16:56:08.100868Z",
     "start_time": "2024-10-04T16:56:08.095116Z"
    }
   },
   "outputs": [
    {
     "data": {
      "text/plain": [
       "0.566085738959629"
      ]
     },
     "execution_count": 45,
     "metadata": {},
     "output_type": "execute_result"
    }
   ],
   "source": [
    "np.max(stability_dataframe[\"H_l\"])"
   ]
  },
  {
   "cell_type": "markdown",
   "id": "e11616d4",
   "metadata": {},
   "source": [
    "## Plotting the simulation results:\n",
    "\n",
    "The code cell below defines three plotting functions that reproduce plots (A), (B) and (C) from Figures 2 and 3 of the Cuskley et al. (2018) paper. \n",
    "The plotting functions also save your plots as pdf files on your machine (again in the same folder as where you have this notebook saved).\n",
    "\n",
    "**Note** that the ```plot_lemma_entropy_by_freq()``` function, hich reproduces subplot (B), doesn't show the x-axis on a log-scale. This is because in our simulations, we're working with smaller populations, so the values for the lemma frequency don't get as large as in the Cuskley et al. (2018) paper. If you _do_ want to see what it looks like with the x-axis on a log scale, simply uncomment the line that says ```plt.xscale('log')``` in the definition of the ```plot_lemma_entropy_by_freq()``` function below."
   ]
  },
  {
   "cell_type": "markdown",
   "id": "a08ca127",
   "metadata": {},
   "source": [
    "## Bug fix on 04/10/2024:\n",
    "\n",
    "Rereading the Cuskley et al. (2018) paper, I realised that Figures 2A and 3A show the distribution of _end state_ values of $H_v$. That is, the values of $H_v$ at the _last timestep_ of each simulation, and how those are distributed across independent runs of the simulation. \n",
    "\n",
    "The figure captions in the Cuskley et al. (2018) paper are a bit ambiguous on this, because the caption of Figure 2A says _\"Distribution of end-state values of Hv over 100 runs.\"_, while the caption of Figure 3A says _\"Mean values of Hv (over 100 runs) over time for large and small population sizes.\"_ (suggesting that there the values _are_ being plotted across all timesteps). Unfortunately, neither the C++ code that is shared with the paper, nor the Python version of the code that first author Christine Cuskley shared with me, include the plotting functions that the authors used to visualise their results, so we cannot double-check this in the code.\n",
    "However, I infer that the _\"over time\"_ part in the caption of Figure 3A is a typo (perhaps a copy-paste error from the caption of Figure 3B?), because in the main text of the paper, it says _\"distribution of end-state $H_v$ values\"_ both in the section about the turnover condition (Section 3.1. _Turnover_) on p. 753, _and_ in the section about the growth condition (Section 3.2. _Growth_) on p. 754.\n",
    "\n",
    "The ```plot_vocab_entropy()``` function in the original notebook for Computer Lab 3, however, was plotting the distribution of $H_v$ values across _all timesteps_ in the simulations, so that function was in fact _not_ reproducing plots 2A and 3A from the Cuskley et al. (2018) paper.\n",
    "\n",
    "Below, I've written some code to select only that part of the dataframe that either (i) contains only the end-state $H_v$ values, or (ii) contains only the $H_v$ values after the population has reached convergence. To define \"convergence\", I've looked at when the lines shown in the \"Active inflections over time\" plots tend to stop changing, and based on that, I decided that the final 500 timesteps of a 2,000-timestep simulation run count as \"after convergence\". Of course, whether this is the best measure of \"convergence\" is debatable, but it'll do for now.\n",
    "The reason I've also included code to plot the $H_v$ values after convergence, is because if we only run a few independent simulation runs (which we are forced to do for this computer lab, because the code takes a long time to run), there's only very little data to plot if we only use the end-state $H_v$ values (namely one value per simulation run), and the ```plot_vocab_entropy()``` function might not generate an interpretable plot. From >10 runs upwards, plots generated with the ```plot_vocab_entropy()``` function and _only_ the end-state $H_v$ values start to be perhaps somewhat interpretable, but that is still only a 10th of the number of simulation runs Cuskley et al. (2018) ran per condition. Running 10 runs per condition in this notebook takes about ~15 min. for the Turnover condition, and ~30 min, for the Growth condition on my laptop."
   ]
  },
  {
   "cell_type": "markdown",
   "id": "f91518e6",
   "metadata": {},
   "source": [
    "### Selecting the end state values for $H_v$ only:"
   ]
  },
  {
   "cell_type": "code",
   "execution_count": 46,
   "id": "1b8d892e",
   "metadata": {
    "ExecuteTime": {
     "end_time": "2024-10-04T16:56:09.957306Z",
     "start_time": "2024-10-04T16:56:09.953777Z"
    }
   },
   "outputs": [],
   "source": [
    "regularity_dataframe_end_state_only = regularity_dataframe[regularity_dataframe[\"Timestep\"]==(maxTime-1)]"
   ]
  },
  {
   "cell_type": "code",
   "execution_count": 47,
   "id": "2317e82a",
   "metadata": {
    "ExecuteTime": {
     "end_time": "2024-10-04T16:56:11.012664Z",
     "start_time": "2024-10-04T16:56:11.003865Z"
    }
   },
   "outputs": [
    {
     "data": {
      "text/html": [
       "<div>\n",
       "<style scoped>\n",
       "    .dataframe tbody tr th:only-of-type {\n",
       "        vertical-align: middle;\n",
       "    }\n",
       "\n",
       "    .dataframe tbody tr th {\n",
       "        vertical-align: top;\n",
       "    }\n",
       "\n",
       "    .dataframe thead th {\n",
       "        text-align: right;\n",
       "    }\n",
       "</style>\n",
       "<table border=\"1\" class=\"dataframe\">\n",
       "  <thead>\n",
       "    <tr style=\"text-align: right;\">\n",
       "      <th></th>\n",
       "      <th>Run</th>\n",
       "      <th>Timestep</th>\n",
       "      <th>InitPopSize</th>\n",
       "      <th>H_v</th>\n",
       "      <th>ActiveInfl</th>\n",
       "    </tr>\n",
       "  </thead>\n",
       "  <tbody>\n",
       "    <tr>\n",
       "      <th>1999</th>\n",
       "      <td>0</td>\n",
       "      <td>1999</td>\n",
       "      <td>10</td>\n",
       "      <td>0.000000</td>\n",
       "      <td>1</td>\n",
       "    </tr>\n",
       "    <tr>\n",
       "      <th>3999</th>\n",
       "      <td>1</td>\n",
       "      <td>1999</td>\n",
       "      <td>10</td>\n",
       "      <td>0.295839</td>\n",
       "      <td>5</td>\n",
       "    </tr>\n",
       "    <tr>\n",
       "      <th>1999</th>\n",
       "      <td>0</td>\n",
       "      <td>1999</td>\n",
       "      <td>50</td>\n",
       "      <td>0.410116</td>\n",
       "      <td>2</td>\n",
       "    </tr>\n",
       "    <tr>\n",
       "      <th>3999</th>\n",
       "      <td>1</td>\n",
       "      <td>1999</td>\n",
       "      <td>50</td>\n",
       "      <td>0.000000</td>\n",
       "      <td>1</td>\n",
       "    </tr>\n",
       "  </tbody>\n",
       "</table>\n",
       "</div>"
      ],
      "text/plain": [
       "      Run  Timestep  InitPopSize       H_v  ActiveInfl\n",
       "1999    0      1999           10  0.000000           1\n",
       "3999    1      1999           10  0.295839           5\n",
       "1999    0      1999           50  0.410116           2\n",
       "3999    1      1999           50  0.000000           1"
      ]
     },
     "execution_count": 47,
     "metadata": {},
     "output_type": "execute_result"
    }
   ],
   "source": [
    "regularity_dataframe_end_state_only"
   ]
  },
  {
   "cell_type": "markdown",
   "id": "a58e787d",
   "metadata": {},
   "source": [
    "### Selecting the values for $H_v$ after convergence only:"
   ]
  },
  {
   "cell_type": "code",
   "execution_count": 48,
   "id": "28521c32",
   "metadata": {
    "ExecuteTime": {
     "end_time": "2024-10-04T16:56:12.226071Z",
     "start_time": "2024-10-04T16:56:12.221838Z"
    }
   },
   "outputs": [],
   "source": [
    "regularity_dataframe_after_convergence = regularity_dataframe[regularity_dataframe[\"Timestep\"]>=1500]"
   ]
  },
  {
   "cell_type": "code",
   "execution_count": 49,
   "id": "4c5f5eb6",
   "metadata": {
    "ExecuteTime": {
     "end_time": "2024-10-04T16:56:12.852709Z",
     "start_time": "2024-10-04T16:56:12.840323Z"
    }
   },
   "outputs": [
    {
     "data": {
      "text/html": [
       "<div>\n",
       "<style scoped>\n",
       "    .dataframe tbody tr th:only-of-type {\n",
       "        vertical-align: middle;\n",
       "    }\n",
       "\n",
       "    .dataframe tbody tr th {\n",
       "        vertical-align: top;\n",
       "    }\n",
       "\n",
       "    .dataframe thead th {\n",
       "        text-align: right;\n",
       "    }\n",
       "</style>\n",
       "<table border=\"1\" class=\"dataframe\">\n",
       "  <thead>\n",
       "    <tr style=\"text-align: right;\">\n",
       "      <th></th>\n",
       "      <th>Run</th>\n",
       "      <th>Timestep</th>\n",
       "      <th>InitPopSize</th>\n",
       "      <th>H_v</th>\n",
       "      <th>ActiveInfl</th>\n",
       "    </tr>\n",
       "  </thead>\n",
       "  <tbody>\n",
       "    <tr>\n",
       "      <th>1500</th>\n",
       "      <td>0</td>\n",
       "      <td>1500</td>\n",
       "      <td>10</td>\n",
       "      <td>0.0</td>\n",
       "      <td>1</td>\n",
       "    </tr>\n",
       "    <tr>\n",
       "      <th>1501</th>\n",
       "      <td>0</td>\n",
       "      <td>1501</td>\n",
       "      <td>10</td>\n",
       "      <td>0.0</td>\n",
       "      <td>1</td>\n",
       "    </tr>\n",
       "    <tr>\n",
       "      <th>1502</th>\n",
       "      <td>0</td>\n",
       "      <td>1502</td>\n",
       "      <td>10</td>\n",
       "      <td>0.0</td>\n",
       "      <td>1</td>\n",
       "    </tr>\n",
       "    <tr>\n",
       "      <th>1503</th>\n",
       "      <td>0</td>\n",
       "      <td>1503</td>\n",
       "      <td>10</td>\n",
       "      <td>0.0</td>\n",
       "      <td>1</td>\n",
       "    </tr>\n",
       "    <tr>\n",
       "      <th>1504</th>\n",
       "      <td>0</td>\n",
       "      <td>1504</td>\n",
       "      <td>10</td>\n",
       "      <td>0.0</td>\n",
       "      <td>1</td>\n",
       "    </tr>\n",
       "    <tr>\n",
       "      <th>...</th>\n",
       "      <td>...</td>\n",
       "      <td>...</td>\n",
       "      <td>...</td>\n",
       "      <td>...</td>\n",
       "      <td>...</td>\n",
       "    </tr>\n",
       "    <tr>\n",
       "      <th>3995</th>\n",
       "      <td>1</td>\n",
       "      <td>1995</td>\n",
       "      <td>50</td>\n",
       "      <td>0.0</td>\n",
       "      <td>1</td>\n",
       "    </tr>\n",
       "    <tr>\n",
       "      <th>3996</th>\n",
       "      <td>1</td>\n",
       "      <td>1996</td>\n",
       "      <td>50</td>\n",
       "      <td>0.0</td>\n",
       "      <td>1</td>\n",
       "    </tr>\n",
       "    <tr>\n",
       "      <th>3997</th>\n",
       "      <td>1</td>\n",
       "      <td>1997</td>\n",
       "      <td>50</td>\n",
       "      <td>0.0</td>\n",
       "      <td>1</td>\n",
       "    </tr>\n",
       "    <tr>\n",
       "      <th>3998</th>\n",
       "      <td>1</td>\n",
       "      <td>1998</td>\n",
       "      <td>50</td>\n",
       "      <td>0.0</td>\n",
       "      <td>1</td>\n",
       "    </tr>\n",
       "    <tr>\n",
       "      <th>3999</th>\n",
       "      <td>1</td>\n",
       "      <td>1999</td>\n",
       "      <td>50</td>\n",
       "      <td>0.0</td>\n",
       "      <td>1</td>\n",
       "    </tr>\n",
       "  </tbody>\n",
       "</table>\n",
       "<p>2000 rows × 5 columns</p>\n",
       "</div>"
      ],
      "text/plain": [
       "      Run  Timestep  InitPopSize  H_v  ActiveInfl\n",
       "1500    0      1500           10  0.0           1\n",
       "1501    0      1501           10  0.0           1\n",
       "1502    0      1502           10  0.0           1\n",
       "1503    0      1503           10  0.0           1\n",
       "1504    0      1504           10  0.0           1\n",
       "...   ...       ...          ...  ...         ...\n",
       "3995    1      1995           50  0.0           1\n",
       "3996    1      1996           50  0.0           1\n",
       "3997    1      1997           50  0.0           1\n",
       "3998    1      1998           50  0.0           1\n",
       "3999    1      1999           50  0.0           1\n",
       "\n",
       "[2000 rows x 5 columns]"
      ]
     },
     "execution_count": 49,
     "metadata": {},
     "output_type": "execute_result"
    }
   ],
   "source": [
    "regularity_dataframe_after_convergence"
   ]
  },
  {
   "cell_type": "markdown",
   "id": "70148318",
   "metadata": {},
   "source": [
    "### Plotting functions:"
   ]
  },
  {
   "cell_type": "code",
   "execution_count": 50,
   "id": "f069a33f",
   "metadata": {
    "ExecuteTime": {
     "end_time": "2024-10-04T16:56:13.923934Z",
     "start_time": "2024-10-04T16:56:13.912264Z"
    }
   },
   "outputs": [],
   "source": [
    "def plot_vocab_entropy(regularity_df, plot_title):\n",
    "    plt.figure()\n",
    "    sns.set_style(\"whitegrid\")\n",
    "    sns.displot(data=regularity_df, x=\"H_v\", hue=\"InitPopSize\", kind=\"kde\", fill=True, palette=sns.color_palette(\"colorblind\", 2))\n",
    "    plt.title(plot_title) # Set figure title\n",
    "    plt.savefig(\"./Hv_plot_\" + \"small_pop_\"+str(popSizes_to_compare[0])+\"_large_pop_\"+str(popSizes_to_compare[1])+\"_runs_\" + str(runs) + \"_tsteps_\" + str(maxTime) + \"_replacement_\" + str(doReplace) + \"_growth_\" + str(doGrowth) + \"_n_lem_\" + str(lemmas) + \"_n_infl_\" + str(\n",
    "        inflections) + \"_k_\" + str(k) + \".pdf\")\n",
    "\n",
    "\n",
    "def plot_lemma_entropy_by_freq(stability_df, plot_title):\n",
    "    plt.figure()\n",
    "    sns.set_style(\"whitegrid\")\n",
    "    sns.lineplot(data=stability_df, x=\"LemmaFrequency\", y=\"H_l\", hue=\"InitPopSize\", palette=sns.color_palette(\"colorblind\", 2))\n",
    "#     plt.xscale('log') #  Uncomment this line if you want to display the x-axis on a log scale, like in the paper\n",
    "    plt.title(plot_title) # Set figure title\n",
    "    plt.savefig(\"./Hl_plot_\"+ \"small_pop_\"+str(popSizes_to_compare[0])+\"_large_pop_\"+str(popSizes_to_compare[1])+\"_runs_\"+str(runs)+\"_tsteps_\" + str(maxTime) +\"_replacement_\"+str(doReplace)+\"_growth_\"+str(doGrowth)+\"_n_lem_\"+str(lemmas)+\"_n_infl_\"+str(inflections)+\"_k_\"+str(k)+\".pdf\")\n",
    "\n",
    "\n",
    "def plot_active_inflections_over_time(regularity_df, plot_title):\n",
    "    plt.figure()\n",
    "    sns.set_style(\"whitegrid\")\n",
    "    sns.lineplot(data=regularity_df, x=\"Timestep\", y=\"ActiveInfl\", hue=\"InitPopSize\", palette=sns.color_palette(\"colorblind\", 2))\n",
    "    plt.title(plot_title) # Set figure title\n",
    "    plt.savefig(\"./Inflections_plot_\"+\"small_pop_\"+str(popSizes_to_compare[0])+\"_large_pop_\"+str(popSizes_to_compare[1])+\"_runs_\"+str(runs)+\"_tsteps_\" + str(maxTime) +\"_replacement_\"+str(doReplace)+\"_growth_\"+str(doGrowth)+\"_n_lem_\"+str(lemmas)+\"_n_infl_\"+str(inflections)+\"_k_\"+str(k)+\".pdf\")\n",
    "    "
   ]
  },
  {
   "cell_type": "markdown",
   "id": "ce955a58",
   "metadata": {},
   "source": [
    "The code cells below show you how to call these three plotting functions. The second input argument is the title of the plot, you can change this accordingly when you change your parameter settings"
   ]
  },
  {
   "cell_type": "markdown",
   "id": "7991202f",
   "metadata": {},
   "source": [
    "### Plotting the distribution of $H_v$ values across all timesteps (and runs):"
   ]
  },
  {
   "cell_type": "markdown",
   "id": "acc8f6e9",
   "metadata": {},
   "source": [
    "This is what we were plotting in the original version of the Computer Lab 3 notebook: The distribution of $H_v$ values across all timesteps."
   ]
  },
  {
   "cell_type": "code",
   "execution_count": 51,
   "id": "022e1420",
   "metadata": {
    "ExecuteTime": {
     "end_time": "2024-10-04T16:56:18.202807Z",
     "start_time": "2024-10-04T16:56:17.525526Z"
    }
   },
   "outputs": [
    {
     "data": {
      "text/plain": [
       "<Figure size 640x480 with 0 Axes>"
      ]
     },
     "metadata": {},
     "output_type": "display_data"
    },
    {
     "data": {
      "image/png": "[encoded data removed]",
      "text/plain": [
       "<Figure size 581.361x500 with 1 Axes>"
      ]
     },
     "metadata": {},
     "output_type": "display_data"
    }
   ],
   "source": [
    "%matplotlib inline\n",
    "\n",
    "plot_vocab_entropy(regularity_dataframe, \"Turnover: Distribution of Hv values across time\")"
   ]
  },
  {
   "cell_type": "markdown",
   "id": "c59d96d7",
   "metadata": {},
   "source": [
    "### Plotting the distribution of end-state $H_v$ values only:\n",
    "\n",
    "Whether the plotting function below shows anything interpretable, depends on how many independent simulation runs you ran. From about >10 runs upwards, it might start showing something interpretable."
   ]
  },
  {
   "cell_type": "code",
   "execution_count": 52,
   "id": "ed70cbcb",
   "metadata": {
    "ExecuteTime": {
     "end_time": "2024-10-04T16:56:19.077906Z",
     "start_time": "2024-10-04T16:56:19.074185Z"
    }
   },
   "outputs": [],
   "source": [
    "regularity_dataframe_end_state_only = regularity_dataframe[regularity_dataframe[\"Timestep\"]==(maxTime-1)]"
   ]
  },
  {
   "cell_type": "code",
   "execution_count": 53,
   "id": "37eed377",
   "metadata": {
    "ExecuteTime": {
     "end_time": "2024-10-04T16:56:19.680124Z",
     "start_time": "2024-10-04T16:56:19.671435Z"
    }
   },
   "outputs": [
    {
     "data": {
      "text/html": [
       "<div>\n",
       "<style scoped>\n",
       "    .dataframe tbody tr th:only-of-type {\n",
       "        vertical-align: middle;\n",
       "    }\n",
       "\n",
       "    .dataframe tbody tr th {\n",
       "        vertical-align: top;\n",
       "    }\n",
       "\n",
       "    .dataframe thead th {\n",
       "        text-align: right;\n",
       "    }\n",
       "</style>\n",
       "<table border=\"1\" class=\"dataframe\">\n",
       "  <thead>\n",
       "    <tr style=\"text-align: right;\">\n",
       "      <th></th>\n",
       "      <th>Run</th>\n",
       "      <th>Timestep</th>\n",
       "      <th>InitPopSize</th>\n",
       "      <th>H_v</th>\n",
       "      <th>ActiveInfl</th>\n",
       "    </tr>\n",
       "  </thead>\n",
       "  <tbody>\n",
       "    <tr>\n",
       "      <th>1999</th>\n",
       "      <td>0</td>\n",
       "      <td>1999</td>\n",
       "      <td>10</td>\n",
       "      <td>0.000000</td>\n",
       "      <td>1</td>\n",
       "    </tr>\n",
       "    <tr>\n",
       "      <th>3999</th>\n",
       "      <td>1</td>\n",
       "      <td>1999</td>\n",
       "      <td>10</td>\n",
       "      <td>0.295839</td>\n",
       "      <td>5</td>\n",
       "    </tr>\n",
       "    <tr>\n",
       "      <th>1999</th>\n",
       "      <td>0</td>\n",
       "      <td>1999</td>\n",
       "      <td>50</td>\n",
       "      <td>0.410116</td>\n",
       "      <td>2</td>\n",
       "    </tr>\n",
       "    <tr>\n",
       "      <th>3999</th>\n",
       "      <td>1</td>\n",
       "      <td>1999</td>\n",
       "      <td>50</td>\n",
       "      <td>0.000000</td>\n",
       "      <td>1</td>\n",
       "    </tr>\n",
       "  </tbody>\n",
       "</table>\n",
       "</div>"
      ],
      "text/plain": [
       "      Run  Timestep  InitPopSize       H_v  ActiveInfl\n",
       "1999    0      1999           10  0.000000           1\n",
       "3999    1      1999           10  0.295839           5\n",
       "1999    0      1999           50  0.410116           2\n",
       "3999    1      1999           50  0.000000           1"
      ]
     },
     "execution_count": 53,
     "metadata": {},
     "output_type": "execute_result"
    }
   ],
   "source": [
    "regularity_dataframe_end_state_only"
   ]
  },
  {
   "cell_type": "code",
   "execution_count": 54,
   "id": "6a954f1c",
   "metadata": {
    "ExecuteTime": {
     "end_time": "2024-10-04T16:56:21.495083Z",
     "start_time": "2024-10-04T16:56:20.793741Z"
    }
   },
   "outputs": [
    {
     "data": {
      "text/plain": [
       "<Figure size 640x480 with 0 Axes>"
      ]
     },
     "metadata": {},
     "output_type": "display_data"
    },
    {
     "data": {
      "image/png": "[encoded data removed]",
      "text/plain": [
       "<Figure size 581.361x500 with 1 Axes>"
      ]
     },
     "metadata": {},
     "output_type": "display_data"
    }
   ],
   "source": [
    "%matplotlib inline\n",
    "\n",
    "plot_vocab_entropy(regularity_dataframe_end_state_only, \"Turnover: Distribution of end-state Hv values\")"
   ]
  },
  {
   "cell_type": "markdown",
   "id": "5044d0d1",
   "metadata": {},
   "source": [
    "### Plotting the distribution of $H_v$ values after convergence only:"
   ]
  },
  {
   "cell_type": "code",
   "execution_count": 55,
   "id": "b218943e",
   "metadata": {
    "ExecuteTime": {
     "end_time": "2024-10-04T16:56:21.887779Z",
     "start_time": "2024-10-04T16:56:21.883180Z"
    }
   },
   "outputs": [],
   "source": [
    "regularity_dataframe_after_convergence = regularity_dataframe[regularity_dataframe[\"Timestep\"]>=1500]"
   ]
  },
  {
   "cell_type": "code",
   "execution_count": 56,
   "id": "58761ae4",
   "metadata": {
    "ExecuteTime": {
     "end_time": "2024-10-04T16:56:23.683443Z",
     "start_time": "2024-10-04T16:56:23.669792Z"
    }
   },
   "outputs": [
    {
     "data": {
      "text/html": [
       "<div>\n",
       "<style scoped>\n",
       "    .dataframe tbody tr th:only-of-type {\n",
       "        vertical-align: middle;\n",
       "    }\n",
       "\n",
       "    .dataframe tbody tr th {\n",
       "        vertical-align: top;\n",
       "    }\n",
       "\n",
       "    .dataframe thead th {\n",
       "        text-align: right;\n",
       "    }\n",
       "</style>\n",
       "<table border=\"1\" class=\"dataframe\">\n",
       "  <thead>\n",
       "    <tr style=\"text-align: right;\">\n",
       "      <th></th>\n",
       "      <th>Run</th>\n",
       "      <th>Timestep</th>\n",
       "      <th>InitPopSize</th>\n",
       "      <th>H_v</th>\n",
       "      <th>ActiveInfl</th>\n",
       "    </tr>\n",
       "  </thead>\n",
       "  <tbody>\n",
       "    <tr>\n",
       "      <th>1500</th>\n",
       "      <td>0</td>\n",
       "      <td>1500</td>\n",
       "      <td>10</td>\n",
       "      <td>0.0</td>\n",
       "      <td>1</td>\n",
       "    </tr>\n",
       "    <tr>\n",
       "      <th>1501</th>\n",
       "      <td>0</td>\n",
       "      <td>1501</td>\n",
       "      <td>10</td>\n",
       "      <td>0.0</td>\n",
       "      <td>1</td>\n",
       "    </tr>\n",
       "    <tr>\n",
       "      <th>1502</th>\n",
       "      <td>0</td>\n",
       "      <td>1502</td>\n",
       "      <td>10</td>\n",
       "      <td>0.0</td>\n",
       "      <td>1</td>\n",
       "    </tr>\n",
       "    <tr>\n",
       "      <th>1503</th>\n",
       "      <td>0</td>\n",
       "      <td>1503</td>\n",
       "      <td>10</td>\n",
       "      <td>0.0</td>\n",
       "      <td>1</td>\n",
       "    </tr>\n",
       "    <tr>\n",
       "      <th>1504</th>\n",
       "      <td>0</td>\n",
       "      <td>1504</td>\n",
       "      <td>10</td>\n",
       "      <td>0.0</td>\n",
       "      <td>1</td>\n",
       "    </tr>\n",
       "    <tr>\n",
       "      <th>...</th>\n",
       "      <td>...</td>\n",
       "      <td>...</td>\n",
       "      <td>...</td>\n",
       "      <td>...</td>\n",
       "      <td>...</td>\n",
       "    </tr>\n",
       "    <tr>\n",
       "      <th>3995</th>\n",
       "      <td>1</td>\n",
       "      <td>1995</td>\n",
       "      <td>50</td>\n",
       "      <td>0.0</td>\n",
       "      <td>1</td>\n",
       "    </tr>\n",
       "    <tr>\n",
       "      <th>3996</th>\n",
       "      <td>1</td>\n",
       "      <td>1996</td>\n",
       "      <td>50</td>\n",
       "      <td>0.0</td>\n",
       "      <td>1</td>\n",
       "    </tr>\n",
       "    <tr>\n",
       "      <th>3997</th>\n",
       "      <td>1</td>\n",
       "      <td>1997</td>\n",
       "      <td>50</td>\n",
       "      <td>0.0</td>\n",
       "      <td>1</td>\n",
       "    </tr>\n",
       "    <tr>\n",
       "      <th>3998</th>\n",
       "      <td>1</td>\n",
       "      <td>1998</td>\n",
       "      <td>50</td>\n",
       "      <td>0.0</td>\n",
       "      <td>1</td>\n",
       "    </tr>\n",
       "    <tr>\n",
       "      <th>3999</th>\n",
       "      <td>1</td>\n",
       "      <td>1999</td>\n",
       "      <td>50</td>\n",
       "      <td>0.0</td>\n",
       "      <td>1</td>\n",
       "    </tr>\n",
       "  </tbody>\n",
       "</table>\n",
       "<p>2000 rows × 5 columns</p>\n",
       "</div>"
      ],
      "text/plain": [
       "      Run  Timestep  InitPopSize  H_v  ActiveInfl\n",
       "1500    0      1500           10  0.0           1\n",
       "1501    0      1501           10  0.0           1\n",
       "1502    0      1502           10  0.0           1\n",
       "1503    0      1503           10  0.0           1\n",
       "1504    0      1504           10  0.0           1\n",
       "...   ...       ...          ...  ...         ...\n",
       "3995    1      1995           50  0.0           1\n",
       "3996    1      1996           50  0.0           1\n",
       "3997    1      1997           50  0.0           1\n",
       "3998    1      1998           50  0.0           1\n",
       "3999    1      1999           50  0.0           1\n",
       "\n",
       "[2000 rows x 5 columns]"
      ]
     },
     "execution_count": 56,
     "metadata": {},
     "output_type": "execute_result"
    }
   ],
   "source": [
    "regularity_dataframe_after_convergence"
   ]
  },
  {
   "cell_type": "code",
   "execution_count": 57,
   "id": "c2c9ed95",
   "metadata": {
    "ExecuteTime": {
     "end_time": "2024-10-04T16:56:25.455355Z",
     "start_time": "2024-10-04T16:56:24.881993Z"
    }
   },
   "outputs": [
    {
     "data": {
      "text/plain": [
       "<Figure size 640x480 with 0 Axes>"
      ]
     },
     "metadata": {},
     "output_type": "display_data"
    },
    {
     "data": {
      "image/png": "[encoded data removed]",
      "text/plain": [
       "<Figure size 581.361x500 with 1 Axes>"
      ]
     },
     "metadata": {},
     "output_type": "display_data"
    }
   ],
   "source": [
    "%matplotlib inline\n",
    "\n",
    "plot_vocab_entropy(regularity_dataframe_after_convergence, \"Turnover: Distribution of Hv values after convergence\")"
   ]
  },
  {
   "cell_type": "code",
   "execution_count": 58,
   "id": "55fefa7a",
   "metadata": {
    "ExecuteTime": {
     "end_time": "2024-10-04T16:56:26.561298Z",
     "start_time": "2024-10-04T16:56:25.806627Z"
    },
    "scrolled": false
   },
   "outputs": [
    {
     "data": {
      "image/png": "[encoded data removed]",
      "text/plain": [
       "<Figure size 640x480 with 1 Axes>"
      ]
     },
     "metadata": {},
     "output_type": "display_data"
    }
   ],
   "source": [
    "%matplotlib inline\n",
    "\n",
    "plot_lemma_entropy_by_freq(stability_dataframe, \"Turnover: Mean end-state Hl by lemma frequency\")"
   ]
  },
  {
   "cell_type": "markdown",
   "id": "1744c115",
   "metadata": {},
   "source": [
    "Just FYI: Running the ```plot_active_inflections_over_time()``` function below takes a bit more time than the other two plotting functions."
   ]
  },
  {
   "cell_type": "code",
   "execution_count": 59,
   "id": "fa8c1bf1",
   "metadata": {
    "ExecuteTime": {
     "end_time": "2024-10-04T16:58:47.711281Z",
     "start_time": "2024-10-04T16:56:27.471203Z"
    }
   },
   "outputs": [
    {
     "data": {
      "image/png": "[encoded data removed]",
      "text/plain": [
       "<Figure size 640x480 with 1 Axes>"
      ]
     },
     "metadata": {},
     "output_type": "display_data"
    }
   ],
   "source": [
    "%matplotlib inline\n",
    "\n",
    "plot_active_inflections_over_time(regularity_dataframe, \"Turnover: Active inflections over time\")"
   ]
  },
  {
   "cell_type": "markdown",
   "id": "a5e6d2c4",
   "metadata": {},
   "source": [
    "**Exercise 3:**\n",
    "\n",
    "**a)** Run a simulation that is similar to the _Turnover_ condition from the Cuskley et al. (2018) paper (section 3.1. _Turnover_; pp. 752-754, and Figure 2), but with smaller populations and fewer lemmas and inflections in the system. Start by using the following parameter settings:\n",
    "\n",
    "- ```popSizes_to_compare = [10, 50]``` (half of what they used in Cuskley et al., 2018)\n",
    "- ```runs = 5``` (1/20th of what they used in Cuskley et al., 2018)\n",
    "- ```maxTime = 2000``` (1/5th of what they used in Cuskley et al., 2018)\n",
    "- ```k = 750``` (half of what they used in Cuskley et al., 2018)\n",
    "- ```d = 100``` (same as in Cuskley et al., 2018)\n",
    "- ```r = 0.001``` (same as in Cuskley et al., 2018)\n",
    "- ```g = 0.001``` (same as in Cuskley et al., 2018)\n",
    "- ```lemmas = 14``` (half of what they used in Cuskley et al., 2018)\n",
    "- ```inflections = 6``` (half of what they used in Cuskley et al., 2018)\n",
    "\n",
    "How should you set the ```doReplace``` and the ```doGrowth``` parameters in order to reproduce the _Turnover_ condition from Cuskley et al. (2018)?\n",
    "\n",
    "I've copy-pasted the code cell with the parameter settings below, to make it easy for you to change them without having to scroll all the way back up to the top of the notebook.\n",
    "\n",
    "\n",
    "**b)** Make plots of your simulation results that are similar to plots (A), (B) and (C) from Figure 2 of the Cuskley et al. (2018) paper. Compare your plots to the corresponding subplots of Figure 2 in the Cuskley et al. (2018) paper, and describe how the results look similar or different. If the pattern of results looks qualitately different for a given subplot, try to explain what could be causing this (i.e., what is different in your simulations compared to those of Cuskley et al., 2018)?\n"
   ]
  },
  {
   "cell_type": "markdown",
   "id": "4fde94ae",
   "metadata": {},
   "source": [
    "**Answer to exercise 3.a):**\n",
    "\n",
    "[Your answer should start here, and, depending on the question, may consist of one or more text cells and/or code cells. You can create as many text and/or code cells as you need in order to answer the question.]"
   ]
  },
  {
   "cell_type": "code",
   "execution_count": null,
   "id": "35c520b4",
   "metadata": {},
   "outputs": [],
   "source": [
    "popSizes_to_compare = [10, 50]  # small pop size first, large pop size second. Cuskley et al. (2018) used 20 for small and 100 for large pop\n",
    "runs = 2  # number of independent simulation runs (int). Cuskley et al. (2018) used 100\n",
    "maxTime = 2000  # number of timesteps (int). Cuskley et al. (2018) used 10,000\n",
    "doReplace = True  # whether to do replacement (i.e., population turnover) or not (Boolean; True or False)\n",
    "doGrowth = False  # whether to do population growth or not (Boolean; True or False)\n",
    "\n",
    "k = 750  # token threshold for proficiency. Cuskley et al. (2018) used 1500\n",
    "d = 100  # memory window, see Cuskley et al. (2017): https://doi.org/10.1016/j.cognition.2016.11.001. Cuskley et al. used 100\n",
    "r = 0.001  # the rate of replacement for turnover. Cuskley et al. (2018) used 0.001.\n",
    "g = 0.001  # the rate of growth. Cuskley et al. (2018) used 0.001.\n",
    "lemmas = 14  # number of lemmas (int); 28 in the Cuskley et al. (2018) paper. Cuskley et al. (2018) used 28\n",
    "inflections = 6  # number of inflections (int); 12 in the Cuskley et al. (2018) paper. Cuskley et al. (2018) used 12"
   ]
  },
  {
   "cell_type": "markdown",
   "id": "1f42d143",
   "metadata": {},
   "source": [
    "**If you've made a change to the number of lemmas:** Don't forget to also regenerate the topic_list, by simply re-running the code cell below:"
   ]
  },
  {
   "cell_type": "code",
   "execution_count": null,
   "id": "310dd452",
   "metadata": {},
   "outputs": [],
   "source": [
    "# 2 is what Cuskley et al. (2018) used as the exponent (parameter a) for the Zipfian distribution, and 500 is the\n",
    "# length of the topic_list from the original code:\n",
    "\n",
    "topic_list = zipfian_vocab(lemmas, 2, 500)\n",
    "\n",
    "lemfreq = Counter(topic_list)"
   ]
  },
  {
   "cell_type": "code",
   "execution_count": null,
   "id": "def4f0d8",
   "metadata": {},
   "outputs": [],
   "source": []
  },
  {
   "cell_type": "markdown",
   "id": "fcbbfb09",
   "metadata": {},
   "source": [
    "**Answer to exercise 3.b):**\n",
    "\n",
    "[Your answer should start here, and, depending on the question, may consist of one or more text cells and/or code cells. You can create as many text and/or code cells as you need in order to answer the question.]"
   ]
  },
  {
   "cell_type": "code",
   "execution_count": null,
   "id": "608e4148",
   "metadata": {},
   "outputs": [],
   "source": []
  },
  {
   "cell_type": "markdown",
   "id": "64bbff75",
   "metadata": {},
   "source": []
  },
  {
   "cell_type": "code",
   "execution_count": null,
   "id": "0502f08d",
   "metadata": {},
   "outputs": [],
   "source": []
  },
  {
   "cell_type": "markdown",
   "id": "8eeb24e8",
   "metadata": {},
   "source": []
  },
  {
   "cell_type": "code",
   "execution_count": null,
   "id": "f03a4aee",
   "metadata": {},
   "outputs": [],
   "source": []
  },
  {
   "cell_type": "markdown",
   "id": "bc3a26c2",
   "metadata": {},
   "source": []
  },
  {
   "cell_type": "markdown",
   "id": "a62ce03d",
   "metadata": {},
   "source": [
    "**Exercise 4:**\n",
    "\n",
    "**a)** Run a simulation that is similar to the _Growth_ condition from the Cuskley et al. (2018) paper (section 3.2. _Growth_; pp. 754-755, and Figure 3), but with smaller populations and fewer lemmas and inflections in the system. Start by using the following parameter settings (same as for Exercise 3a):\n",
    "\n",
    "- ```popSizes_to_compare = [10, 50]``` (half of what they used in Cuskley et al., 2018)\n",
    "- ```runs = 5``` (1/20th of what they used in Cuskley et al., 2018)\n",
    "- ```maxTime = 2000``` (1/5th of what they used in Cuskley et al., 2018)\n",
    "- ```k = 750``` (half of what they used in Cuskley et al., 2018)\n",
    "- ```d = 100``` (same as in Cuskley et al., 2018)\n",
    "- ```r = 0.001``` (same as in Cuskley et al., 2018)\n",
    "- ```g = 0.001``` (same as in Cuskley et al., 2018)\n",
    "- ```lemmas = 14``` (half of what they used in Cuskley et al., 2018)\n",
    "- ```inflections = 6``` (half of what they used in Cuskley et al., 2018)\n",
    "\n",
    "How should you set the ```doReplace``` and the ```doGrowth``` parameters in order to reproduce the _Growth_ condition from Cuskley et al. (2018)?\n",
    "\n",
    "\n",
    "**b)** Make plots of your simulation results that are similar to plots (A), (B) and (C) from Figure 3 of the Cuskley et al. (2018) paper. Compare your plots to the corresponding subplots of Figure 3 in the Cuskley et al. (2018) paper, and describe how the results look similar or different. If the pattern of results looks qualitately different for a given subplot, try to explain what could be causing this (i.e., what is different in your simulations compared to those of Cuskley et al., 2018)?\n",
    "\n"
   ]
  },
  {
   "cell_type": "markdown",
   "id": "eff1338b",
   "metadata": {},
   "source": [
    "**Answer to exercise 4.a):**\n",
    "\n",
    "[Your answer should start here, and, depending on the question, may consist of one or more text cells and/or code cells. You can create as many text and/or code cells as you need in order to answer the question.]"
   ]
  },
  {
   "cell_type": "code",
   "execution_count": null,
   "id": "f55c05dd",
   "metadata": {},
   "outputs": [],
   "source": [
    "popSizes_to_compare = [10, 50]  # small pop size first, large pop size second. Cuskley et al. (2018) used 20 for small and 100 for large pop\n",
    "runs = 2  # number of independent simulation runs (int). Cuskley et al. (2018) used 100\n",
    "maxTime = 2000  # number of timesteps (int). Cuskley et al. (2018) used 10,000\n",
    "doReplace = True  # whether to do replacement (i.e., population turnover) or not (Boolean; True or False)\n",
    "doGrowth = False  # whether to do population growth or not (Boolean; True or False)\n",
    "\n",
    "k = 750  # token threshold for proficiency. Cuskley et al. (2018) used 1500\n",
    "d = 100  # memory window, see Cuskley et al. (2017): https://doi.org/10.1016/j.cognition.2016.11.001. Cuskley et al. used 100\n",
    "r = 0.001  # the rate of replacement for turnover. Cuskley et al. (2018) used 0.001.\n",
    "g = 0.001  # the rate of growth. Cuskley et al. (2018) used 0.001.\n",
    "lemmas = 14  # number of lemmas (int); 28 in the Cuskley et al. (2018) paper. Cuskley et al. (2018) used 28\n",
    "inflections = 6  # number of inflections (int); 12 in the Cuskley et al. (2018) paper. Cuskley et al. (2018) used 12"
   ]
  },
  {
   "cell_type": "code",
   "execution_count": null,
   "id": "4ee994d0",
   "metadata": {},
   "outputs": [],
   "source": []
  },
  {
   "cell_type": "markdown",
   "id": "e927cd5e",
   "metadata": {},
   "source": [
    "**Answer to exercise 4.b):**\n",
    "\n",
    "[Your answer should start here, and, depending on the question, may consist of one or more text cells and/or code cells. You can create as many text and/or code cells as you need in order to answer the question.]"
   ]
  },
  {
   "cell_type": "code",
   "execution_count": null,
   "id": "fa3a0212",
   "metadata": {},
   "outputs": [],
   "source": []
  },
  {
   "cell_type": "markdown",
   "id": "7ce3db97",
   "metadata": {},
   "source": []
  },
  {
   "cell_type": "code",
   "execution_count": null,
   "id": "97c196ce",
   "metadata": {},
   "outputs": [],
   "source": []
  },
  {
   "cell_type": "markdown",
   "id": "0bc25c61",
   "metadata": {},
   "source": []
  },
  {
   "cell_type": "code",
   "execution_count": null,
   "id": "d7fb75f5",
   "metadata": {},
   "outputs": [],
   "source": []
  },
  {
   "cell_type": "markdown",
   "id": "555afb64",
   "metadata": {},
   "source": []
  },
  {
   "cell_type": "markdown",
   "id": "9729e3a4",
   "metadata": {},
   "source": [
    "**BONUS Exercise 5:** \n",
    "\n",
    "Have a look at the Cuskley et al. (2018) paper: In the growth condition, was there also population turnover (i.e., replacement)? Or did all agents from the initial population stay in the population?\n",
    "\n",
    "Also describe where in the paper you found the answer to this question, and how you infer your answer from what it says in the paper."
   ]
  },
  {
   "cell_type": "markdown",
   "id": "3bc102ef",
   "metadata": {},
   "source": [
    "**Answer to BONUS exercise 5:**\n",
    "\n",
    "[Your answer should start here, and, depending on the question, may consist of one or more text cells and/or code cells. You can create as many text and/or code cells as you need in order to answer the question.]"
   ]
  },
  {
   "cell_type": "markdown",
   "id": "e57d0719",
   "metadata": {},
   "source": []
  },
  {
   "cell_type": "markdown",
   "id": "f8fde8e2",
   "metadata": {},
   "source": [
    "If you're working in a virtual environment, **don't forget to deactivate your virtual environment** using the ```deactivate``` command."
   ]
  },
  {
   "cell_type": "markdown",
   "id": "16f677f4",
   "metadata": {},
   "source": [
    "## References\n",
    "\n",
    "Cuskley, C., Loreto, V., & Kirby, S. (2018). A Social Approach to Rule Dynamics Using an Agent-Based Model. Topics in Cognitive Science, 10(4), 745–758. https://doi.org/10.1111/tops.12327"
   ]
  }
 ],
 "metadata": {
  "kernelspec": {
   "display_name": "abcm",
   "language": "python",
   "name": "abcm"
  },
  "language_info": {
   "codemirror_mode": {
    "name": "ipython",
    "version": 3
   },
   "file_extension": ".py",
   "mimetype": "text/x-python",
   "name": "python",
   "nbconvert_exporter": "python",
   "pygments_lexer": "ipython3",
   "version": "3.7.13"
  },
  "latex_envs": {
   "LaTeX_envs_menu_present": true,
   "autoclose": false,
   "autocomplete": true,
   "bibliofile": "biblio.bib",
   "cite_by": "apalike",
   "current_citInitial": 1,
   "eqLabelWithNumbers": true,
   "eqNumInitial": 1,
   "hotkeys": {
    "equation": "Ctrl-E",
    "itemize": "Ctrl-I"
   },
   "labels_anchors": false,
   "latex_user_defs": false,
   "report_style_numbering": false,
   "user_envs_cfg": false
  },
  "toc": {
   "base_numbering": 1,
   "nav_menu": {},
   "number_sections": true,
   "sideBar": true,
   "skip_h1_title": false,
   "title_cell": "Table of Contents",
   "title_sidebar": "Contents",
   "toc_cell": false,
   "toc_position": {},
   "toc_section_display": true,
   "toc_window_display": false
  },
  "varInspector": {
   "cols": {
    "lenName": 16,
    "lenType": 16,
    "lenVar": 40
   },
   "kernels_config": {
    "python": {
     "delete_cmd_postfix": "",
     "delete_cmd_prefix": "del ",
     "library": "var_list.py",
     "varRefreshCmd": "print(var_dic_list())"
    },
    "r": {
     "delete_cmd_postfix": ") ",
     "delete_cmd_prefix": "rm(",
     "library": "var_list.r",
     "varRefreshCmd": "cat(var_dic_list()) "
    }
   },
   "types_to_exclude": [
    "module",
    "function",
    "builtin_function_or_method",
    "instance",
    "_Feature"
   ],
   "window_display": false
  }
 },
 "nbformat": 4,
 "nbformat_minor": 5
}
